{
 "cells": [
  {
   "cell_type": "markdown",
   "metadata": {},
   "source": [
    "# Energy Efficiency "
   ]
  },
  {
   "cell_type": "markdown",
   "metadata": {},
   "source": [
    "This work aims at relating the energy consumption of the buildings with their shape. 12 different building shapes were examined for energy analysis. There are eight input variables consisting of relative compactness, surface area, wall area, roof area, overall height, orientation, glazing area and glazing area distribution. These input variables will be analyzed using statistical analysis to examine the effect on two output variables, namely heating load and cooling load."
   ]
  },
  {
   "cell_type": "markdown",
   "metadata": {},
   "source": [
    "## Variables Information:\n",
    "* Relative Compactness\n",
    "* Surface Area - m²\n",
    "* Wall Area - m²\n",
    "* Roof Area - m²\n",
    "* Overall Height - m\n",
    "* Orientation - 2:North, 3:East, 4:South, 5:West\n",
    "* Glazing Area - 0%, 10%, 25%, 40% (of floor area)\n",
    "* Glazing Area Distribution (Variance) - 1:Uniform, 2:North, 3:East, 4:South, 5:West\n",
    "* Heating Load - kWh\n",
    "* Cooling Load - kWh"
   ]
  },
  {
   "cell_type": "code",
   "execution_count": 1,
   "metadata": {},
   "outputs": [],
   "source": [
    "import pandas as pd\n",
    "import numpy as np \n",
    "import matplotlib.pyplot as plt\n",
    "import sklearn\n",
    "import seaborn as sns\n",
    "import tensorflow as tf\n",
    "from tensorflow.keras.models import Model\n",
    "from sklearn import preprocessing\n",
    "from pandas.plotting import scatter_matrix\n",
    "from mlxtend.feature_selection import SequentialFeatureSelector as sfs\n",
    "from sklearn.model_selection import train_test_split\n",
    "from sklearn.preprocessing import MinMaxScaler\n",
    "from sklearn.linear_model import LinearRegression\n",
    "from sklearn.tree import DecisionTreeRegressor\n",
    "from sklearn.ensemble import RandomForestRegressor\n",
    "from sklearn.svm import SVR\n",
    "from sklearn.metrics import r2_score\n",
    "from sklearn.metrics import mean_squared_error\n",
    "from sklearn.metrics import mean_absolute_error\n",
    "from sklearn.metrics import explained_variance_score\n",
    "from sklearn.model_selection import StratifiedKFold"
   ]
  },
  {
   "cell_type": "markdown",
   "metadata": {},
   "source": [
    "#  Data Import\n",
    "\n",
    "The source of the dataset is from the UCI machine learning site, the extension is\n",
    "https://archive.ics.uci.edu/ml/datasets/Energy+efficiency."
   ]
  },
  {
   "cell_type": "code",
   "execution_count": 2,
   "metadata": {},
   "outputs": [],
   "source": [
    "df = pd.read_csv('/Users/Cansel/Desktop/İTÜ_BİG_DATA/ENB2012_data.csv')"
   ]
  },
  {
   "cell_type": "markdown",
   "metadata": {},
   "source": [
    "# Description and Characterisation of Dataset"
   ]
  },
  {
   "cell_type": "code",
   "execution_count": 3,
   "metadata": {},
   "outputs": [
    {
     "data": {
      "text/html": [
       "<div>\n",
       "<style scoped>\n",
       "    .dataframe tbody tr th:only-of-type {\n",
       "        vertical-align: middle;\n",
       "    }\n",
       "\n",
       "    .dataframe tbody tr th {\n",
       "        vertical-align: top;\n",
       "    }\n",
       "\n",
       "    .dataframe thead th {\n",
       "        text-align: right;\n",
       "    }\n",
       "</style>\n",
       "<table border=\"1\" class=\"dataframe\">\n",
       "  <thead>\n",
       "    <tr style=\"text-align: right;\">\n",
       "      <th></th>\n",
       "      <th>X1</th>\n",
       "      <th>X2</th>\n",
       "      <th>X3</th>\n",
       "      <th>X4</th>\n",
       "      <th>X5</th>\n",
       "      <th>X6</th>\n",
       "      <th>X7</th>\n",
       "      <th>X8</th>\n",
       "      <th>Y1</th>\n",
       "      <th>Y2</th>\n",
       "    </tr>\n",
       "  </thead>\n",
       "  <tbody>\n",
       "    <tr>\n",
       "      <th>0</th>\n",
       "      <td>0.98</td>\n",
       "      <td>514.5</td>\n",
       "      <td>294.0</td>\n",
       "      <td>110.25</td>\n",
       "      <td>7.0</td>\n",
       "      <td>2</td>\n",
       "      <td>0.0</td>\n",
       "      <td>0</td>\n",
       "      <td>15.55</td>\n",
       "      <td>21.33</td>\n",
       "    </tr>\n",
       "    <tr>\n",
       "      <th>1</th>\n",
       "      <td>0.98</td>\n",
       "      <td>514.5</td>\n",
       "      <td>294.0</td>\n",
       "      <td>110.25</td>\n",
       "      <td>7.0</td>\n",
       "      <td>3</td>\n",
       "      <td>0.0</td>\n",
       "      <td>0</td>\n",
       "      <td>15.55</td>\n",
       "      <td>21.33</td>\n",
       "    </tr>\n",
       "    <tr>\n",
       "      <th>2</th>\n",
       "      <td>0.98</td>\n",
       "      <td>514.5</td>\n",
       "      <td>294.0</td>\n",
       "      <td>110.25</td>\n",
       "      <td>7.0</td>\n",
       "      <td>4</td>\n",
       "      <td>0.0</td>\n",
       "      <td>0</td>\n",
       "      <td>15.55</td>\n",
       "      <td>21.33</td>\n",
       "    </tr>\n",
       "    <tr>\n",
       "      <th>3</th>\n",
       "      <td>0.98</td>\n",
       "      <td>514.5</td>\n",
       "      <td>294.0</td>\n",
       "      <td>110.25</td>\n",
       "      <td>7.0</td>\n",
       "      <td>5</td>\n",
       "      <td>0.0</td>\n",
       "      <td>0</td>\n",
       "      <td>15.55</td>\n",
       "      <td>21.33</td>\n",
       "    </tr>\n",
       "    <tr>\n",
       "      <th>4</th>\n",
       "      <td>0.90</td>\n",
       "      <td>563.5</td>\n",
       "      <td>318.5</td>\n",
       "      <td>122.50</td>\n",
       "      <td>7.0</td>\n",
       "      <td>2</td>\n",
       "      <td>0.0</td>\n",
       "      <td>0</td>\n",
       "      <td>20.84</td>\n",
       "      <td>28.28</td>\n",
       "    </tr>\n",
       "  </tbody>\n",
       "</table>\n",
       "</div>"
      ],
      "text/plain": [
       "     X1     X2     X3      X4   X5  X6   X7  X8     Y1     Y2\n",
       "0  0.98  514.5  294.0  110.25  7.0   2  0.0   0  15.55  21.33\n",
       "1  0.98  514.5  294.0  110.25  7.0   3  0.0   0  15.55  21.33\n",
       "2  0.98  514.5  294.0  110.25  7.0   4  0.0   0  15.55  21.33\n",
       "3  0.98  514.5  294.0  110.25  7.0   5  0.0   0  15.55  21.33\n",
       "4  0.90  563.5  318.5  122.50  7.0   2  0.0   0  20.84  28.28"
      ]
     },
     "execution_count": 3,
     "metadata": {},
     "output_type": "execute_result"
    }
   ],
   "source": [
    "df.head()"
   ]
  },
  {
   "cell_type": "markdown",
   "metadata": {},
   "source": [
    "* The dataset contains eight attributes (represented by X1 ... X8) and two responses (represented by Y1 and Y2). Specifically: X1 Relative Compactness, X2 Surface Area, X3 Wall Area, X4 Roof Area, X5 Overall Height, X6 Orientation, X7 Glazing Area, X8 Glazing Area Distribution,Y1 Heating Load, Y2 Cooling Load."
   ]
  },
  {
   "cell_type": "code",
   "execution_count": 4,
   "metadata": {},
   "outputs": [],
   "source": [
    "df.columns = ['relative_compactness', 'surface_area', 'wall_area', 'roof_area', 'overall_height', 'orientation', 'glazing_area', 'glazing_area_distribution', 'heating_load', 'cooling_load']"
   ]
  },
  {
   "cell_type": "code",
   "execution_count": 5,
   "metadata": {},
   "outputs": [
    {
     "data": {
      "text/html": [
       "<div>\n",
       "<style scoped>\n",
       "    .dataframe tbody tr th:only-of-type {\n",
       "        vertical-align: middle;\n",
       "    }\n",
       "\n",
       "    .dataframe tbody tr th {\n",
       "        vertical-align: top;\n",
       "    }\n",
       "\n",
       "    .dataframe thead th {\n",
       "        text-align: right;\n",
       "    }\n",
       "</style>\n",
       "<table border=\"1\" class=\"dataframe\">\n",
       "  <thead>\n",
       "    <tr style=\"text-align: right;\">\n",
       "      <th></th>\n",
       "      <th>relative_compactness</th>\n",
       "      <th>surface_area</th>\n",
       "      <th>wall_area</th>\n",
       "      <th>roof_area</th>\n",
       "      <th>overall_height</th>\n",
       "      <th>orientation</th>\n",
       "      <th>glazing_area</th>\n",
       "      <th>glazing_area_distribution</th>\n",
       "      <th>heating_load</th>\n",
       "      <th>cooling_load</th>\n",
       "    </tr>\n",
       "  </thead>\n",
       "  <tbody>\n",
       "    <tr>\n",
       "      <th>0</th>\n",
       "      <td>0.98</td>\n",
       "      <td>514.5</td>\n",
       "      <td>294.0</td>\n",
       "      <td>110.25</td>\n",
       "      <td>7.0</td>\n",
       "      <td>2</td>\n",
       "      <td>0.0</td>\n",
       "      <td>0</td>\n",
       "      <td>15.55</td>\n",
       "      <td>21.33</td>\n",
       "    </tr>\n",
       "    <tr>\n",
       "      <th>1</th>\n",
       "      <td>0.98</td>\n",
       "      <td>514.5</td>\n",
       "      <td>294.0</td>\n",
       "      <td>110.25</td>\n",
       "      <td>7.0</td>\n",
       "      <td>3</td>\n",
       "      <td>0.0</td>\n",
       "      <td>0</td>\n",
       "      <td>15.55</td>\n",
       "      <td>21.33</td>\n",
       "    </tr>\n",
       "    <tr>\n",
       "      <th>2</th>\n",
       "      <td>0.98</td>\n",
       "      <td>514.5</td>\n",
       "      <td>294.0</td>\n",
       "      <td>110.25</td>\n",
       "      <td>7.0</td>\n",
       "      <td>4</td>\n",
       "      <td>0.0</td>\n",
       "      <td>0</td>\n",
       "      <td>15.55</td>\n",
       "      <td>21.33</td>\n",
       "    </tr>\n",
       "    <tr>\n",
       "      <th>3</th>\n",
       "      <td>0.98</td>\n",
       "      <td>514.5</td>\n",
       "      <td>294.0</td>\n",
       "      <td>110.25</td>\n",
       "      <td>7.0</td>\n",
       "      <td>5</td>\n",
       "      <td>0.0</td>\n",
       "      <td>0</td>\n",
       "      <td>15.55</td>\n",
       "      <td>21.33</td>\n",
       "    </tr>\n",
       "    <tr>\n",
       "      <th>4</th>\n",
       "      <td>0.90</td>\n",
       "      <td>563.5</td>\n",
       "      <td>318.5</td>\n",
       "      <td>122.50</td>\n",
       "      <td>7.0</td>\n",
       "      <td>2</td>\n",
       "      <td>0.0</td>\n",
       "      <td>0</td>\n",
       "      <td>20.84</td>\n",
       "      <td>28.28</td>\n",
       "    </tr>\n",
       "  </tbody>\n",
       "</table>\n",
       "</div>"
      ],
      "text/plain": [
       "   relative_compactness  surface_area  wall_area  roof_area  overall_height  \\\n",
       "0                  0.98         514.5      294.0     110.25             7.0   \n",
       "1                  0.98         514.5      294.0     110.25             7.0   \n",
       "2                  0.98         514.5      294.0     110.25             7.0   \n",
       "3                  0.98         514.5      294.0     110.25             7.0   \n",
       "4                  0.90         563.5      318.5     122.50             7.0   \n",
       "\n",
       "   orientation  glazing_area  glazing_area_distribution  heating_load  \\\n",
       "0            2           0.0                          0         15.55   \n",
       "1            3           0.0                          0         15.55   \n",
       "2            4           0.0                          0         15.55   \n",
       "3            5           0.0                          0         15.55   \n",
       "4            2           0.0                          0         20.84   \n",
       "\n",
       "   cooling_load  \n",
       "0         21.33  \n",
       "1         21.33  \n",
       "2         21.33  \n",
       "3         21.33  \n",
       "4         28.28  "
      ]
     },
     "execution_count": 5,
     "metadata": {},
     "output_type": "execute_result"
    }
   ],
   "source": [
    "df.head()"
   ]
  },
  {
   "cell_type": "code",
   "execution_count": 6,
   "metadata": {},
   "outputs": [
    {
     "data": {
      "text/plain": [
       "relative_compactness         0\n",
       "surface_area                 0\n",
       "wall_area                    0\n",
       "roof_area                    0\n",
       "overall_height               0\n",
       "orientation                  0\n",
       "glazing_area                 0\n",
       "glazing_area_distribution    0\n",
       "heating_load                 0\n",
       "cooling_load                 0\n",
       "dtype: int64"
      ]
     },
     "execution_count": 6,
     "metadata": {},
     "output_type": "execute_result"
    }
   ],
   "source": [
    "df.isnull().sum()"
   ]
  },
  {
   "cell_type": "code",
   "execution_count": 7,
   "metadata": {},
   "outputs": [
    {
     "data": {
      "text/plain": [
       "relative_compactness         float64\n",
       "surface_area                 float64\n",
       "wall_area                    float64\n",
       "roof_area                    float64\n",
       "overall_height               float64\n",
       "orientation                    int64\n",
       "glazing_area                 float64\n",
       "glazing_area_distribution      int64\n",
       "heating_load                 float64\n",
       "cooling_load                 float64\n",
       "dtype: object"
      ]
     },
     "execution_count": 7,
     "metadata": {},
     "output_type": "execute_result"
    }
   ],
   "source": [
    "df.dtypes"
   ]
  },
  {
   "cell_type": "code",
   "execution_count": 8,
   "metadata": {},
   "outputs": [
    {
     "data": {
      "text/plain": [
       "(768, 10)"
      ]
     },
     "execution_count": 8,
     "metadata": {},
     "output_type": "execute_result"
    }
   ],
   "source": [
    "df.shape"
   ]
  },
  {
   "cell_type": "code",
   "execution_count": 9,
   "metadata": {},
   "outputs": [
    {
     "data": {
      "text/plain": [
       "7680"
      ]
     },
     "execution_count": 9,
     "metadata": {},
     "output_type": "execute_result"
    }
   ],
   "source": [
    "df.size"
   ]
  },
  {
   "cell_type": "code",
   "execution_count": 10,
   "metadata": {},
   "outputs": [
    {
     "name": "stdout",
     "output_type": "stream",
     "text": [
      "\n",
      " X shape: (768, 8) \n",
      " y shape: (768, 2)\n"
     ]
    }
   ],
   "source": [
    "X = (df.drop(columns=df[['heating_load', 'cooling_load']], axis=0))\n",
    "y = (df.iloc[:, -2:])\n",
    "\n",
    "print('\\n', 'X shape:',\n",
    "      X.shape, '\\n',\n",
    "      'y shape:', y.shape)"
   ]
  },
  {
   "cell_type": "code",
   "execution_count": 11,
   "metadata": {},
   "outputs": [
    {
     "data": {
      "text/plain": [
       "relative_compactness          0\n",
       "surface_area                  0\n",
       "wall_area                     0\n",
       "roof_area                     0\n",
       "overall_height                0\n",
       "orientation                   0\n",
       "glazing_area                 48\n",
       "glazing_area_distribution    48\n",
       "heating_load                  0\n",
       "cooling_load                  0\n",
       "dtype: int64"
      ]
     },
     "execution_count": 11,
     "metadata": {},
     "output_type": "execute_result"
    }
   ],
   "source": [
    "df.eq(0).sum()"
   ]
  },
  {
   "cell_type": "code",
   "execution_count": 12,
   "metadata": {},
   "outputs": [
    {
     "name": "stdout",
     "output_type": "stream",
     "text": [
      "<class 'pandas.core.frame.DataFrame'>\n",
      "RangeIndex: 768 entries, 0 to 767\n",
      "Data columns (total 10 columns):\n",
      " #   Column                     Non-Null Count  Dtype  \n",
      "---  ------                     --------------  -----  \n",
      " 0   relative_compactness       768 non-null    float64\n",
      " 1   surface_area               768 non-null    float64\n",
      " 2   wall_area                  768 non-null    float64\n",
      " 3   roof_area                  768 non-null    float64\n",
      " 4   overall_height             768 non-null    float64\n",
      " 5   orientation                768 non-null    int64  \n",
      " 6   glazing_area               768 non-null    float64\n",
      " 7   glazing_area_distribution  768 non-null    int64  \n",
      " 8   heating_load               768 non-null    float64\n",
      " 9   cooling_load               768 non-null    float64\n",
      "dtypes: float64(8), int64(2)\n",
      "memory usage: 60.1 KB\n"
     ]
    }
   ],
   "source": [
    "df.info()"
   ]
  },
  {
   "cell_type": "markdown",
   "metadata": {},
   "source": [
    "* The dataset consists of 768 samples and 8 attributes aimed at predicting two real-valued responses."
   ]
  },
  {
   "cell_type": "markdown",
   "metadata": {},
   "source": [
    "# Descriptive Statistics"
   ]
  },
  {
   "cell_type": "markdown",
   "metadata": {},
   "source": [
    "* Descriptive statistics are used to describe the basic features of the data in this study to make the understanding of the data easier. Measures of central tendency, measures of dispersion and measures of position are used for descriptive statistics. "
   ]
  },
  {
   "cell_type": "code",
   "execution_count": 13,
   "metadata": {},
   "outputs": [
    {
     "data": {
      "text/html": [
       "<div>\n",
       "<style scoped>\n",
       "    .dataframe tbody tr th:only-of-type {\n",
       "        vertical-align: middle;\n",
       "    }\n",
       "\n",
       "    .dataframe tbody tr th {\n",
       "        vertical-align: top;\n",
       "    }\n",
       "\n",
       "    .dataframe thead th {\n",
       "        text-align: right;\n",
       "    }\n",
       "</style>\n",
       "<table border=\"1\" class=\"dataframe\">\n",
       "  <thead>\n",
       "    <tr style=\"text-align: right;\">\n",
       "      <th></th>\n",
       "      <th>relative_compactness</th>\n",
       "      <th>surface_area</th>\n",
       "      <th>wall_area</th>\n",
       "      <th>roof_area</th>\n",
       "      <th>overall_height</th>\n",
       "      <th>orientation</th>\n",
       "      <th>glazing_area</th>\n",
       "      <th>glazing_area_distribution</th>\n",
       "      <th>heating_load</th>\n",
       "      <th>cooling_load</th>\n",
       "    </tr>\n",
       "  </thead>\n",
       "  <tbody>\n",
       "    <tr>\n",
       "      <th>count</th>\n",
       "      <td>768.000000</td>\n",
       "      <td>768.000000</td>\n",
       "      <td>768.000000</td>\n",
       "      <td>768.000000</td>\n",
       "      <td>768.00000</td>\n",
       "      <td>768.000000</td>\n",
       "      <td>768.000000</td>\n",
       "      <td>768.00000</td>\n",
       "      <td>768.000000</td>\n",
       "      <td>768.000000</td>\n",
       "    </tr>\n",
       "    <tr>\n",
       "      <th>mean</th>\n",
       "      <td>0.764167</td>\n",
       "      <td>671.708333</td>\n",
       "      <td>318.500000</td>\n",
       "      <td>176.604167</td>\n",
       "      <td>5.25000</td>\n",
       "      <td>3.500000</td>\n",
       "      <td>0.234375</td>\n",
       "      <td>2.81250</td>\n",
       "      <td>22.307201</td>\n",
       "      <td>24.587760</td>\n",
       "    </tr>\n",
       "    <tr>\n",
       "      <th>std</th>\n",
       "      <td>0.105777</td>\n",
       "      <td>88.086116</td>\n",
       "      <td>43.626481</td>\n",
       "      <td>45.165950</td>\n",
       "      <td>1.75114</td>\n",
       "      <td>1.118763</td>\n",
       "      <td>0.133221</td>\n",
       "      <td>1.55096</td>\n",
       "      <td>10.090196</td>\n",
       "      <td>9.513306</td>\n",
       "    </tr>\n",
       "    <tr>\n",
       "      <th>min</th>\n",
       "      <td>0.620000</td>\n",
       "      <td>514.500000</td>\n",
       "      <td>245.000000</td>\n",
       "      <td>110.250000</td>\n",
       "      <td>3.50000</td>\n",
       "      <td>2.000000</td>\n",
       "      <td>0.000000</td>\n",
       "      <td>0.00000</td>\n",
       "      <td>6.010000</td>\n",
       "      <td>10.900000</td>\n",
       "    </tr>\n",
       "    <tr>\n",
       "      <th>25%</th>\n",
       "      <td>0.682500</td>\n",
       "      <td>606.375000</td>\n",
       "      <td>294.000000</td>\n",
       "      <td>140.875000</td>\n",
       "      <td>3.50000</td>\n",
       "      <td>2.750000</td>\n",
       "      <td>0.100000</td>\n",
       "      <td>1.75000</td>\n",
       "      <td>12.992500</td>\n",
       "      <td>15.620000</td>\n",
       "    </tr>\n",
       "    <tr>\n",
       "      <th>50%</th>\n",
       "      <td>0.750000</td>\n",
       "      <td>673.750000</td>\n",
       "      <td>318.500000</td>\n",
       "      <td>183.750000</td>\n",
       "      <td>5.25000</td>\n",
       "      <td>3.500000</td>\n",
       "      <td>0.250000</td>\n",
       "      <td>3.00000</td>\n",
       "      <td>18.950000</td>\n",
       "      <td>22.080000</td>\n",
       "    </tr>\n",
       "    <tr>\n",
       "      <th>75%</th>\n",
       "      <td>0.830000</td>\n",
       "      <td>741.125000</td>\n",
       "      <td>343.000000</td>\n",
       "      <td>220.500000</td>\n",
       "      <td>7.00000</td>\n",
       "      <td>4.250000</td>\n",
       "      <td>0.400000</td>\n",
       "      <td>4.00000</td>\n",
       "      <td>31.667500</td>\n",
       "      <td>33.132500</td>\n",
       "    </tr>\n",
       "    <tr>\n",
       "      <th>max</th>\n",
       "      <td>0.980000</td>\n",
       "      <td>808.500000</td>\n",
       "      <td>416.500000</td>\n",
       "      <td>220.500000</td>\n",
       "      <td>7.00000</td>\n",
       "      <td>5.000000</td>\n",
       "      <td>0.400000</td>\n",
       "      <td>5.00000</td>\n",
       "      <td>43.100000</td>\n",
       "      <td>48.030000</td>\n",
       "    </tr>\n",
       "  </tbody>\n",
       "</table>\n",
       "</div>"
      ],
      "text/plain": [
       "       relative_compactness  surface_area   wall_area   roof_area  \\\n",
       "count            768.000000    768.000000  768.000000  768.000000   \n",
       "mean               0.764167    671.708333  318.500000  176.604167   \n",
       "std                0.105777     88.086116   43.626481   45.165950   \n",
       "min                0.620000    514.500000  245.000000  110.250000   \n",
       "25%                0.682500    606.375000  294.000000  140.875000   \n",
       "50%                0.750000    673.750000  318.500000  183.750000   \n",
       "75%                0.830000    741.125000  343.000000  220.500000   \n",
       "max                0.980000    808.500000  416.500000  220.500000   \n",
       "\n",
       "       overall_height  orientation  glazing_area  glazing_area_distribution  \\\n",
       "count       768.00000   768.000000    768.000000                  768.00000   \n",
       "mean          5.25000     3.500000      0.234375                    2.81250   \n",
       "std           1.75114     1.118763      0.133221                    1.55096   \n",
       "min           3.50000     2.000000      0.000000                    0.00000   \n",
       "25%           3.50000     2.750000      0.100000                    1.75000   \n",
       "50%           5.25000     3.500000      0.250000                    3.00000   \n",
       "75%           7.00000     4.250000      0.400000                    4.00000   \n",
       "max           7.00000     5.000000      0.400000                    5.00000   \n",
       "\n",
       "       heating_load  cooling_load  \n",
       "count    768.000000    768.000000  \n",
       "mean      22.307201     24.587760  \n",
       "std       10.090196      9.513306  \n",
       "min        6.010000     10.900000  \n",
       "25%       12.992500     15.620000  \n",
       "50%       18.950000     22.080000  \n",
       "75%       31.667500     33.132500  \n",
       "max       43.100000     48.030000  "
      ]
     },
     "execution_count": 13,
     "metadata": {},
     "output_type": "execute_result"
    }
   ],
   "source": [
    "df.describe()"
   ]
  },
  {
   "cell_type": "code",
   "execution_count": 14,
   "metadata": {},
   "outputs": [
    {
     "data": {
      "text/plain": [
       "relative_compactness            0.011189\n",
       "surface_area                 7759.163842\n",
       "wall_area                    1903.269883\n",
       "roof_area                    2039.963060\n",
       "overall_height                  3.066493\n",
       "orientation                     1.251630\n",
       "glazing_area                    0.017748\n",
       "glazing_area_distribution       2.405476\n",
       "heating_load                  101.812050\n",
       "cooling_load                   90.502983\n",
       "dtype: float64"
      ]
     },
     "execution_count": 14,
     "metadata": {},
     "output_type": "execute_result"
    }
   ],
   "source": [
    "df.var()"
   ]
  },
  {
   "cell_type": "code",
   "execution_count": 15,
   "metadata": {},
   "outputs": [
    {
     "data": {
      "text/plain": [
       "relative_compactness           0.75\n",
       "surface_area                 673.75\n",
       "wall_area                    318.50\n",
       "roof_area                    183.75\n",
       "overall_height                 5.25\n",
       "orientation                    3.50\n",
       "glazing_area                   0.25\n",
       "glazing_area_distribution      3.00\n",
       "heating_load                  18.95\n",
       "cooling_load                  22.08\n",
       "dtype: float64"
      ]
     },
     "execution_count": 15,
     "metadata": {},
     "output_type": "execute_result"
    }
   ],
   "source": [
    "df.median()"
   ]
  },
  {
   "cell_type": "markdown",
   "metadata": {},
   "source": [
    "* Values such as mean, median, variance, and standard deviation are very different from each other in the descriptive statiscs. Preprocessing is required as it will not be suitable for the model to be made. It is explained in the preprocessing section."
   ]
  },
  {
   "cell_type": "markdown",
   "metadata": {},
   "source": [
    "* The statistical graphs is a tool that helps you obtain information about the shape or distribution of data in the data. A graph or chart can be a more efficient way of presenting data than a stack of numbers so that you can see where the data sets are and where only a few data values are."
   ]
  },
  {
   "cell_type": "code",
   "execution_count": 16,
   "metadata": {},
   "outputs": [
    {
     "data": {
      "image/png": "[encoded data removed]",
      "text/plain": [
       "<Figure size 1440x1080 with 12 Axes>"
      ]
     },
     "metadata": {
      "needs_background": "light"
     },
     "output_type": "display_data"
    }
   ],
   "source": [
    "df.hist(bins=20, figsize=(20,15),  color = \"royalblue\")\n",
    "plt.show()"
   ]
  },
  {
   "cell_type": "markdown",
   "metadata": {},
   "source": [
    "* Histogram allows us to show the distribution of data groups in the graphs in detail."
   ]
  },
  {
   "cell_type": "code",
   "execution_count": 17,
   "metadata": {},
   "outputs": [
    {
     "data": {
      "text/plain": [
       "<Figure size 360x360 with 0 Axes>"
      ]
     },
     "metadata": {},
     "output_type": "display_data"
    },
    {
     "data": {
      "image/png": "[encoded data removed]",
      "text/plain": [
       "<Figure size 1440x360 with 16 Axes>"
      ]
     },
     "metadata": {
      "needs_background": "light"
     },
     "output_type": "display_data"
    }
   ],
   "source": [
    "plt.figure(figsize=(5,5))\n",
    "sns.pairplot(data=df, y_vars=['heating_load','cooling_load'],\n",
    "             x_vars=['relative_compactness', 'surface_area', 'wall_area', 'roof_area', 'overall_height',\n",
    "                     'orientation', 'glazing_area', 'glazing_area_distribution',])\n",
    "plt.show()"
   ]
  },
  {
   "cell_type": "markdown",
   "metadata": {},
   "source": [
    "* For example, scatter plots for relative compactness and surface area are shown in detail as follows."
   ]
  },
  {
   "cell_type": "code",
   "execution_count": 18,
   "metadata": {},
   "outputs": [
    {
     "data": {
      "text/plain": [
       "12"
      ]
     },
     "execution_count": 18,
     "metadata": {},
     "output_type": "execute_result"
    }
   ],
   "source": [
    "df['relative_compactness'].unique().size"
   ]
  },
  {
   "cell_type": "code",
   "execution_count": 19,
   "metadata": {},
   "outputs": [
    {
     "data": {
      "text/plain": [
       "<function matplotlib.pyplot.show(close=None, block=None)>"
      ]
     },
     "execution_count": 19,
     "metadata": {},
     "output_type": "execute_result"
    },
    {
     "data": {
      "image/png": "[encoded data removed]",
      "text/plain": [
       "<Figure size 432x288 with 1 Axes>"
      ]
     },
     "metadata": {
      "needs_background": "light"
     },
     "output_type": "display_data"
    }
   ],
   "source": [
    "x = df['relative_compactness']\n",
    "y = df['heating_load']\n",
    "plt.scatter(x, y, color = \"crimson\")\n",
    "plt.xlabel('relative_compactness')\n",
    "plt.ylabel('heating_load')\n",
    "plt.show"
   ]
  },
  {
   "cell_type": "code",
   "execution_count": 20,
   "metadata": {},
   "outputs": [
    {
     "data": {
      "text/plain": [
       "<function matplotlib.pyplot.show(close=None, block=None)>"
      ]
     },
     "execution_count": 20,
     "metadata": {},
     "output_type": "execute_result"
    },
    {
     "data": {
      "image/png": "[encoded data removed]",
      "text/plain": [
       "<Figure size 432x288 with 1 Axes>"
      ]
     },
     "metadata": {
      "needs_background": "light"
     },
     "output_type": "display_data"
    }
   ],
   "source": [
    "x = df['relative_compactness']\n",
    "y = df['cooling_load']\n",
    "plt.scatter(x, y, color =\"deepskyblue\")\n",
    "plt.xlabel('relative_compactness')\n",
    "plt.ylabel('cooling_load')\n",
    "plt.show"
   ]
  },
  {
   "cell_type": "code",
   "execution_count": 21,
   "metadata": {},
   "outputs": [
    {
     "data": {
      "text/plain": [
       "12"
      ]
     },
     "execution_count": 21,
     "metadata": {},
     "output_type": "execute_result"
    }
   ],
   "source": [
    "df['surface_area'].unique().size"
   ]
  },
  {
   "cell_type": "code",
   "execution_count": 22,
   "metadata": {},
   "outputs": [
    {
     "data": {
      "text/plain": [
       "<function matplotlib.pyplot.show(close=None, block=None)>"
      ]
     },
     "execution_count": 22,
     "metadata": {},
     "output_type": "execute_result"
    },
    {
     "data": {
      "image/png": "[encoded data removed]",
      "text/plain": [
       "<Figure size 432x288 with 1 Axes>"
      ]
     },
     "metadata": {
      "needs_background": "light"
     },
     "output_type": "display_data"
    }
   ],
   "source": [
    "x = df['surface_area']\n",
    "y = df['heating_load']\n",
    "plt.scatter(x, y, color =\"crimson\")\n",
    "plt.xlabel('Surface Area')\n",
    "plt.ylabel('Heating Load')\n",
    "plt.show"
   ]
  },
  {
   "cell_type": "code",
   "execution_count": 23,
   "metadata": {},
   "outputs": [
    {
     "data": {
      "text/plain": [
       "<function matplotlib.pyplot.show(close=None, block=None)>"
      ]
     },
     "execution_count": 23,
     "metadata": {},
     "output_type": "execute_result"
    },
    {
     "data": {
      "image/png": "[encoded data removed]",
      "text/plain": [
       "<Figure size 432x288 with 1 Axes>"
      ]
     },
     "metadata": {
      "needs_background": "light"
     },
     "output_type": "display_data"
    }
   ],
   "source": [
    "x = df['surface_area']\n",
    "y = df['cooling_load']\n",
    "plt.scatter(x, y, color =\"deepskyblue\")\n",
    "plt.xlabel('Surface Area')\n",
    "plt.ylabel('Cooling Load')\n",
    "plt.show"
   ]
  },
  {
   "cell_type": "markdown",
   "metadata": {},
   "source": [
    "*  Scatter plots are used to observe relationships between variables. It can be said that relative compactness and overall height can have a positive relationship in both heating load and cooling load. Also, it can be said that surface area and roof area have a negative relationship with both heating load and cooling load. It can be said that there is no relationship for both heating load and cooling load in glazing area distribution and orientation."
   ]
  },
  {
   "cell_type": "code",
   "execution_count": 24,
   "metadata": {},
   "outputs": [
    {
     "data": {
      "text/html": [
       "<div>\n",
       "<style scoped>\n",
       "    .dataframe tbody tr th:only-of-type {\n",
       "        vertical-align: middle;\n",
       "    }\n",
       "\n",
       "    .dataframe tbody tr th {\n",
       "        vertical-align: top;\n",
       "    }\n",
       "\n",
       "    .dataframe thead th {\n",
       "        text-align: right;\n",
       "    }\n",
       "</style>\n",
       "<table border=\"1\" class=\"dataframe\">\n",
       "  <thead>\n",
       "    <tr style=\"text-align: right;\">\n",
       "      <th></th>\n",
       "      <th>relative_compactness</th>\n",
       "      <th>surface_area</th>\n",
       "      <th>wall_area</th>\n",
       "      <th>roof_area</th>\n",
       "      <th>overall_height</th>\n",
       "      <th>orientation</th>\n",
       "      <th>glazing_area</th>\n",
       "      <th>glazing_area_distribution</th>\n",
       "      <th>heating_load</th>\n",
       "      <th>cooling_load</th>\n",
       "    </tr>\n",
       "  </thead>\n",
       "  <tbody>\n",
       "    <tr>\n",
       "      <th>relative_compactness</th>\n",
       "      <td>1.000000e+00</td>\n",
       "      <td>-9.919015e-01</td>\n",
       "      <td>-2.037817e-01</td>\n",
       "      <td>-8.688234e-01</td>\n",
       "      <td>8.277473e-01</td>\n",
       "      <td>4.678592e-17</td>\n",
       "      <td>-2.960552e-15</td>\n",
       "      <td>-7.107006e-16</td>\n",
       "      <td>0.622272</td>\n",
       "      <td>0.634339</td>\n",
       "    </tr>\n",
       "    <tr>\n",
       "      <th>surface_area</th>\n",
       "      <td>-9.919015e-01</td>\n",
       "      <td>1.000000e+00</td>\n",
       "      <td>1.955016e-01</td>\n",
       "      <td>8.807195e-01</td>\n",
       "      <td>-8.581477e-01</td>\n",
       "      <td>-3.459372e-17</td>\n",
       "      <td>3.636925e-15</td>\n",
       "      <td>2.438409e-15</td>\n",
       "      <td>-0.658120</td>\n",
       "      <td>-0.672999</td>\n",
       "    </tr>\n",
       "    <tr>\n",
       "      <th>wall_area</th>\n",
       "      <td>-2.037817e-01</td>\n",
       "      <td>1.955016e-01</td>\n",
       "      <td>1.000000e+00</td>\n",
       "      <td>-2.923165e-01</td>\n",
       "      <td>2.809757e-01</td>\n",
       "      <td>-2.429499e-17</td>\n",
       "      <td>-8.567455e-17</td>\n",
       "      <td>2.067384e-16</td>\n",
       "      <td>0.455671</td>\n",
       "      <td>0.427117</td>\n",
       "    </tr>\n",
       "    <tr>\n",
       "      <th>roof_area</th>\n",
       "      <td>-8.688234e-01</td>\n",
       "      <td>8.807195e-01</td>\n",
       "      <td>-2.923165e-01</td>\n",
       "      <td>1.000000e+00</td>\n",
       "      <td>-9.725122e-01</td>\n",
       "      <td>-5.830058e-17</td>\n",
       "      <td>-1.759011e-15</td>\n",
       "      <td>-1.078071e-15</td>\n",
       "      <td>-0.861828</td>\n",
       "      <td>-0.862547</td>\n",
       "    </tr>\n",
       "    <tr>\n",
       "      <th>overall_height</th>\n",
       "      <td>8.277473e-01</td>\n",
       "      <td>-8.581477e-01</td>\n",
       "      <td>2.809757e-01</td>\n",
       "      <td>-9.725122e-01</td>\n",
       "      <td>1.000000e+00</td>\n",
       "      <td>4.492205e-17</td>\n",
       "      <td>1.489134e-17</td>\n",
       "      <td>-2.920613e-17</td>\n",
       "      <td>0.889431</td>\n",
       "      <td>0.895785</td>\n",
       "    </tr>\n",
       "    <tr>\n",
       "      <th>orientation</th>\n",
       "      <td>4.678592e-17</td>\n",
       "      <td>-3.459372e-17</td>\n",
       "      <td>-2.429499e-17</td>\n",
       "      <td>-5.830058e-17</td>\n",
       "      <td>4.492205e-17</td>\n",
       "      <td>1.000000e+00</td>\n",
       "      <td>-9.406007e-16</td>\n",
       "      <td>-2.549352e-16</td>\n",
       "      <td>-0.002587</td>\n",
       "      <td>0.014290</td>\n",
       "    </tr>\n",
       "    <tr>\n",
       "      <th>glazing_area</th>\n",
       "      <td>-2.960552e-15</td>\n",
       "      <td>3.636925e-15</td>\n",
       "      <td>-8.567455e-17</td>\n",
       "      <td>-1.759011e-15</td>\n",
       "      <td>1.489134e-17</td>\n",
       "      <td>-9.406007e-16</td>\n",
       "      <td>1.000000e+00</td>\n",
       "      <td>2.129642e-01</td>\n",
       "      <td>0.269841</td>\n",
       "      <td>0.207505</td>\n",
       "    </tr>\n",
       "    <tr>\n",
       "      <th>glazing_area_distribution</th>\n",
       "      <td>-7.107006e-16</td>\n",
       "      <td>2.438409e-15</td>\n",
       "      <td>2.067384e-16</td>\n",
       "      <td>-1.078071e-15</td>\n",
       "      <td>-2.920613e-17</td>\n",
       "      <td>-2.549352e-16</td>\n",
       "      <td>2.129642e-01</td>\n",
       "      <td>1.000000e+00</td>\n",
       "      <td>0.087368</td>\n",
       "      <td>0.050525</td>\n",
       "    </tr>\n",
       "    <tr>\n",
       "      <th>heating_load</th>\n",
       "      <td>6.222722e-01</td>\n",
       "      <td>-6.581202e-01</td>\n",
       "      <td>4.556712e-01</td>\n",
       "      <td>-8.618283e-01</td>\n",
       "      <td>8.894307e-01</td>\n",
       "      <td>-2.586534e-03</td>\n",
       "      <td>2.698410e-01</td>\n",
       "      <td>8.736759e-02</td>\n",
       "      <td>1.000000</td>\n",
       "      <td>0.975862</td>\n",
       "    </tr>\n",
       "    <tr>\n",
       "      <th>cooling_load</th>\n",
       "      <td>6.343391e-01</td>\n",
       "      <td>-6.729989e-01</td>\n",
       "      <td>4.271170e-01</td>\n",
       "      <td>-8.625466e-01</td>\n",
       "      <td>8.957852e-01</td>\n",
       "      <td>1.428960e-02</td>\n",
       "      <td>2.075050e-01</td>\n",
       "      <td>5.052512e-02</td>\n",
       "      <td>0.975862</td>\n",
       "      <td>1.000000</td>\n",
       "    </tr>\n",
       "  </tbody>\n",
       "</table>\n",
       "</div>"
      ],
      "text/plain": [
       "                           relative_compactness  surface_area     wall_area  \\\n",
       "relative_compactness               1.000000e+00 -9.919015e-01 -2.037817e-01   \n",
       "surface_area                      -9.919015e-01  1.000000e+00  1.955016e-01   \n",
       "wall_area                         -2.037817e-01  1.955016e-01  1.000000e+00   \n",
       "roof_area                         -8.688234e-01  8.807195e-01 -2.923165e-01   \n",
       "overall_height                     8.277473e-01 -8.581477e-01  2.809757e-01   \n",
       "orientation                        4.678592e-17 -3.459372e-17 -2.429499e-17   \n",
       "glazing_area                      -2.960552e-15  3.636925e-15 -8.567455e-17   \n",
       "glazing_area_distribution         -7.107006e-16  2.438409e-15  2.067384e-16   \n",
       "heating_load                       6.222722e-01 -6.581202e-01  4.556712e-01   \n",
       "cooling_load                       6.343391e-01 -6.729989e-01  4.271170e-01   \n",
       "\n",
       "                              roof_area  overall_height   orientation  \\\n",
       "relative_compactness      -8.688234e-01    8.277473e-01  4.678592e-17   \n",
       "surface_area               8.807195e-01   -8.581477e-01 -3.459372e-17   \n",
       "wall_area                 -2.923165e-01    2.809757e-01 -2.429499e-17   \n",
       "roof_area                  1.000000e+00   -9.725122e-01 -5.830058e-17   \n",
       "overall_height            -9.725122e-01    1.000000e+00  4.492205e-17   \n",
       "orientation               -5.830058e-17    4.492205e-17  1.000000e+00   \n",
       "glazing_area              -1.759011e-15    1.489134e-17 -9.406007e-16   \n",
       "glazing_area_distribution -1.078071e-15   -2.920613e-17 -2.549352e-16   \n",
       "heating_load              -8.618283e-01    8.894307e-01 -2.586534e-03   \n",
       "cooling_load              -8.625466e-01    8.957852e-01  1.428960e-02   \n",
       "\n",
       "                           glazing_area  glazing_area_distribution  \\\n",
       "relative_compactness      -2.960552e-15              -7.107006e-16   \n",
       "surface_area               3.636925e-15               2.438409e-15   \n",
       "wall_area                 -8.567455e-17               2.067384e-16   \n",
       "roof_area                 -1.759011e-15              -1.078071e-15   \n",
       "overall_height             1.489134e-17              -2.920613e-17   \n",
       "orientation               -9.406007e-16              -2.549352e-16   \n",
       "glazing_area               1.000000e+00               2.129642e-01   \n",
       "glazing_area_distribution  2.129642e-01               1.000000e+00   \n",
       "heating_load               2.698410e-01               8.736759e-02   \n",
       "cooling_load               2.075050e-01               5.052512e-02   \n",
       "\n",
       "                           heating_load  cooling_load  \n",
       "relative_compactness           0.622272      0.634339  \n",
       "surface_area                  -0.658120     -0.672999  \n",
       "wall_area                      0.455671      0.427117  \n",
       "roof_area                     -0.861828     -0.862547  \n",
       "overall_height                 0.889431      0.895785  \n",
       "orientation                   -0.002587      0.014290  \n",
       "glazing_area                   0.269841      0.207505  \n",
       "glazing_area_distribution      0.087368      0.050525  \n",
       "heating_load                   1.000000      0.975862  \n",
       "cooling_load                   0.975862      1.000000  "
      ]
     },
     "execution_count": 24,
     "metadata": {},
     "output_type": "execute_result"
    }
   ],
   "source": [
    "df.corr(method='pearson')"
   ]
  },
  {
   "cell_type": "code",
   "execution_count": 25,
   "metadata": {},
   "outputs": [
    {
     "data": {
      "text/plain": [
       "<AxesSubplot:>"
      ]
     },
     "execution_count": 25,
     "metadata": {},
     "output_type": "execute_result"
    },
    {
     "data": {
      "image/png": "[encoded data removed]",
      "text/plain": [
       "<Figure size 864x864 with 2 Axes>"
      ]
     },
     "metadata": {
      "needs_background": "light"
     },
     "output_type": "display_data"
    }
   ],
   "source": [
    "plt.figure(figsize=(12,12))\n",
    "sns.heatmap(df.corr(),annot=True)"
   ]
  },
  {
   "cell_type": "markdown",
   "metadata": {},
   "source": [
    "* The relationship between relative compactness and surface area is very close to -1, which confirms that there is a negative relationship between them. It is understood that there is a negative relationship between the roof area and the overall height.Relative compactness and overall height close to 1, which indicates a positive relationship between them. Also, overall height has positive relationships with both heating load and cooling load. It is understood that orientation and glazing area distribution, did not have an effect on the response variables, and there was no significant relationship."
   ]
  },
  {
   "cell_type": "markdown",
   "metadata": {},
   "source": [
    "# Data Preprocessing"
   ]
  },
  {
   "cell_type": "markdown",
   "metadata": {},
   "source": [
    "* Data pre-processing techniques are used to provide accurate, efficient or meaningful analysis.\n",
    "* First of all, data cleaning and the method of finding, removing and replacing bad or missing data was examined. There is no missing or outlier value. \n",
    "* Descriptive statistical analysis was performed on the energy efficiency dataset. As a result, values such as mean, variance, and standard deviation were found to be very different from each other. Therefore, pre-processing should take place.\n",
    "* Normalization has been made in the data. Data normalization enables it to convert data into a common format to enable data to be processed and analyzed. Normalizes values between 0 and 1."
   ]
  },
  {
   "cell_type": "code",
   "execution_count": 27,
   "metadata": {},
   "outputs": [
    {
     "data": {
      "text/html": [
       "<div>\n",
       "<style scoped>\n",
       "    .dataframe tbody tr th:only-of-type {\n",
       "        vertical-align: middle;\n",
       "    }\n",
       "\n",
       "    .dataframe tbody tr th {\n",
       "        vertical-align: top;\n",
       "    }\n",
       "\n",
       "    .dataframe thead th {\n",
       "        text-align: right;\n",
       "    }\n",
       "</style>\n",
       "<table border=\"1\" class=\"dataframe\">\n",
       "  <thead>\n",
       "    <tr style=\"text-align: right;\">\n",
       "      <th></th>\n",
       "      <th>relative_compactness</th>\n",
       "      <th>surface_area</th>\n",
       "      <th>wall_area</th>\n",
       "      <th>roof_area</th>\n",
       "      <th>overall_height</th>\n",
       "      <th>orientation</th>\n",
       "      <th>glazing_area</th>\n",
       "      <th>glazing_area_distribution</th>\n",
       "      <th>heating_load</th>\n",
       "      <th>cooling_load</th>\n",
       "    </tr>\n",
       "  </thead>\n",
       "  <tbody>\n",
       "    <tr>\n",
       "      <th>0</th>\n",
       "      <td>0.98</td>\n",
       "      <td>514.5</td>\n",
       "      <td>294.0</td>\n",
       "      <td>110.25</td>\n",
       "      <td>7.0</td>\n",
       "      <td>2</td>\n",
       "      <td>0.0</td>\n",
       "      <td>0</td>\n",
       "      <td>15.55</td>\n",
       "      <td>21.33</td>\n",
       "    </tr>\n",
       "    <tr>\n",
       "      <th>1</th>\n",
       "      <td>0.98</td>\n",
       "      <td>514.5</td>\n",
       "      <td>294.0</td>\n",
       "      <td>110.25</td>\n",
       "      <td>7.0</td>\n",
       "      <td>3</td>\n",
       "      <td>0.0</td>\n",
       "      <td>0</td>\n",
       "      <td>15.55</td>\n",
       "      <td>21.33</td>\n",
       "    </tr>\n",
       "    <tr>\n",
       "      <th>2</th>\n",
       "      <td>0.98</td>\n",
       "      <td>514.5</td>\n",
       "      <td>294.0</td>\n",
       "      <td>110.25</td>\n",
       "      <td>7.0</td>\n",
       "      <td>4</td>\n",
       "      <td>0.0</td>\n",
       "      <td>0</td>\n",
       "      <td>15.55</td>\n",
       "      <td>21.33</td>\n",
       "    </tr>\n",
       "    <tr>\n",
       "      <th>3</th>\n",
       "      <td>0.98</td>\n",
       "      <td>514.5</td>\n",
       "      <td>294.0</td>\n",
       "      <td>110.25</td>\n",
       "      <td>7.0</td>\n",
       "      <td>5</td>\n",
       "      <td>0.0</td>\n",
       "      <td>0</td>\n",
       "      <td>15.55</td>\n",
       "      <td>21.33</td>\n",
       "    </tr>\n",
       "    <tr>\n",
       "      <th>4</th>\n",
       "      <td>0.90</td>\n",
       "      <td>563.5</td>\n",
       "      <td>318.5</td>\n",
       "      <td>122.50</td>\n",
       "      <td>7.0</td>\n",
       "      <td>2</td>\n",
       "      <td>0.0</td>\n",
       "      <td>0</td>\n",
       "      <td>20.84</td>\n",
       "      <td>28.28</td>\n",
       "    </tr>\n",
       "  </tbody>\n",
       "</table>\n",
       "</div>"
      ],
      "text/plain": [
       "   relative_compactness  surface_area  wall_area  roof_area  overall_height  \\\n",
       "0                  0.98         514.5      294.0     110.25             7.0   \n",
       "1                  0.98         514.5      294.0     110.25             7.0   \n",
       "2                  0.98         514.5      294.0     110.25             7.0   \n",
       "3                  0.98         514.5      294.0     110.25             7.0   \n",
       "4                  0.90         563.5      318.5     122.50             7.0   \n",
       "\n",
       "   orientation  glazing_area  glazing_area_distribution  heating_load  \\\n",
       "0            2           0.0                          0         15.55   \n",
       "1            3           0.0                          0         15.55   \n",
       "2            4           0.0                          0         15.55   \n",
       "3            5           0.0                          0         15.55   \n",
       "4            2           0.0                          0         20.84   \n",
       "\n",
       "   cooling_load  \n",
       "0         21.33  \n",
       "1         21.33  \n",
       "2         21.33  \n",
       "3         21.33  \n",
       "4         28.28  "
      ]
     },
     "execution_count": 27,
     "metadata": {},
     "output_type": "execute_result"
    }
   ],
   "source": [
    "df.head()"
   ]
  },
  {
   "cell_type": "code",
   "execution_count": 28,
   "metadata": {},
   "outputs": [],
   "source": [
    "d = preprocessing.normalize(df)\n",
    "scaled_df = pd.DataFrame(d, columns=df.columns)"
   ]
  },
  {
   "cell_type": "code",
   "execution_count": 29,
   "metadata": {},
   "outputs": [
    {
     "data": {
      "text/html": [
       "<div>\n",
       "<style scoped>\n",
       "    .dataframe tbody tr th:only-of-type {\n",
       "        vertical-align: middle;\n",
       "    }\n",
       "\n",
       "    .dataframe tbody tr th {\n",
       "        vertical-align: top;\n",
       "    }\n",
       "\n",
       "    .dataframe thead th {\n",
       "        text-align: right;\n",
       "    }\n",
       "</style>\n",
       "<table border=\"1\" class=\"dataframe\">\n",
       "  <thead>\n",
       "    <tr style=\"text-align: right;\">\n",
       "      <th></th>\n",
       "      <th>relative_compactness</th>\n",
       "      <th>surface_area</th>\n",
       "      <th>wall_area</th>\n",
       "      <th>roof_area</th>\n",
       "      <th>overall_height</th>\n",
       "      <th>orientation</th>\n",
       "      <th>glazing_area</th>\n",
       "      <th>glazing_area_distribution</th>\n",
       "      <th>heating_load</th>\n",
       "      <th>cooling_load</th>\n",
       "    </tr>\n",
       "  </thead>\n",
       "  <tbody>\n",
       "    <tr>\n",
       "      <th>0</th>\n",
       "      <td>0.001624</td>\n",
       "      <td>0.852714</td>\n",
       "      <td>0.487265</td>\n",
       "      <td>0.182725</td>\n",
       "      <td>0.011602</td>\n",
       "      <td>0.003315</td>\n",
       "      <td>0.0</td>\n",
       "      <td>0.0</td>\n",
       "      <td>0.025772</td>\n",
       "      <td>0.035352</td>\n",
       "    </tr>\n",
       "    <tr>\n",
       "      <th>1</th>\n",
       "      <td>0.001624</td>\n",
       "      <td>0.852709</td>\n",
       "      <td>0.487262</td>\n",
       "      <td>0.182723</td>\n",
       "      <td>0.011601</td>\n",
       "      <td>0.004972</td>\n",
       "      <td>0.0</td>\n",
       "      <td>0.0</td>\n",
       "      <td>0.025772</td>\n",
       "      <td>0.035351</td>\n",
       "    </tr>\n",
       "    <tr>\n",
       "      <th>2</th>\n",
       "      <td>0.001624</td>\n",
       "      <td>0.852700</td>\n",
       "      <td>0.487257</td>\n",
       "      <td>0.182722</td>\n",
       "      <td>0.011601</td>\n",
       "      <td>0.006629</td>\n",
       "      <td>0.0</td>\n",
       "      <td>0.0</td>\n",
       "      <td>0.025772</td>\n",
       "      <td>0.035351</td>\n",
       "    </tr>\n",
       "    <tr>\n",
       "      <th>3</th>\n",
       "      <td>0.001624</td>\n",
       "      <td>0.852690</td>\n",
       "      <td>0.487251</td>\n",
       "      <td>0.182719</td>\n",
       "      <td>0.011601</td>\n",
       "      <td>0.008287</td>\n",
       "      <td>0.0</td>\n",
       "      <td>0.0</td>\n",
       "      <td>0.025771</td>\n",
       "      <td>0.035351</td>\n",
       "    </tr>\n",
       "    <tr>\n",
       "      <th>4</th>\n",
       "      <td>0.001364</td>\n",
       "      <td>0.854113</td>\n",
       "      <td>0.482759</td>\n",
       "      <td>0.185677</td>\n",
       "      <td>0.010610</td>\n",
       "      <td>0.003031</td>\n",
       "      <td>0.0</td>\n",
       "      <td>0.0</td>\n",
       "      <td>0.031588</td>\n",
       "      <td>0.042865</td>\n",
       "    </tr>\n",
       "  </tbody>\n",
       "</table>\n",
       "</div>"
      ],
      "text/plain": [
       "   relative_compactness  surface_area  wall_area  roof_area  overall_height  \\\n",
       "0              0.001624      0.852714   0.487265   0.182725        0.011602   \n",
       "1              0.001624      0.852709   0.487262   0.182723        0.011601   \n",
       "2              0.001624      0.852700   0.487257   0.182722        0.011601   \n",
       "3              0.001624      0.852690   0.487251   0.182719        0.011601   \n",
       "4              0.001364      0.854113   0.482759   0.185677        0.010610   \n",
       "\n",
       "   orientation  glazing_area  glazing_area_distribution  heating_load  \\\n",
       "0     0.003315           0.0                        0.0      0.025772   \n",
       "1     0.004972           0.0                        0.0      0.025772   \n",
       "2     0.006629           0.0                        0.0      0.025772   \n",
       "3     0.008287           0.0                        0.0      0.025771   \n",
       "4     0.003031           0.0                        0.0      0.031588   \n",
       "\n",
       "   cooling_load  \n",
       "0      0.035352  \n",
       "1      0.035351  \n",
       "2      0.035351  \n",
       "3      0.035351  \n",
       "4      0.042865  "
      ]
     },
     "execution_count": 29,
     "metadata": {},
     "output_type": "execute_result"
    }
   ],
   "source": [
    "scaled_df.head()"
   ]
  },
  {
   "cell_type": "code",
   "execution_count": 30,
   "metadata": {},
   "outputs": [
    {
     "data": {
      "text/html": [
       "<div>\n",
       "<style scoped>\n",
       "    .dataframe tbody tr th:only-of-type {\n",
       "        vertical-align: middle;\n",
       "    }\n",
       "\n",
       "    .dataframe tbody tr th {\n",
       "        vertical-align: top;\n",
       "    }\n",
       "\n",
       "    .dataframe thead th {\n",
       "        text-align: right;\n",
       "    }\n",
       "</style>\n",
       "<table border=\"1\" class=\"dataframe\">\n",
       "  <thead>\n",
       "    <tr style=\"text-align: right;\">\n",
       "      <th></th>\n",
       "      <th>relative_compactness</th>\n",
       "      <th>surface_area</th>\n",
       "      <th>wall_area</th>\n",
       "      <th>roof_area</th>\n",
       "      <th>overall_height</th>\n",
       "      <th>orientation</th>\n",
       "      <th>glazing_area</th>\n",
       "      <th>glazing_area_distribution</th>\n",
       "      <th>heating_load</th>\n",
       "      <th>cooling_load</th>\n",
       "    </tr>\n",
       "  </thead>\n",
       "  <tbody>\n",
       "    <tr>\n",
       "      <th>count</th>\n",
       "      <td>768.000000</td>\n",
       "      <td>768.000000</td>\n",
       "      <td>768.000000</td>\n",
       "      <td>768.000000</td>\n",
       "      <td>768.000000</td>\n",
       "      <td>768.000000</td>\n",
       "      <td>768.000000</td>\n",
       "      <td>768.000000</td>\n",
       "      <td>768.000000</td>\n",
       "      <td>768.000000</td>\n",
       "    </tr>\n",
       "    <tr>\n",
       "      <th>mean</th>\n",
       "      <td>0.001027</td>\n",
       "      <td>0.874187</td>\n",
       "      <td>0.418857</td>\n",
       "      <td>0.227665</td>\n",
       "      <td>0.007158</td>\n",
       "      <td>0.004628</td>\n",
       "      <td>0.000310</td>\n",
       "      <td>0.003719</td>\n",
       "      <td>0.030377</td>\n",
       "      <td>0.033365</td>\n",
       "    </tr>\n",
       "    <tr>\n",
       "      <th>std</th>\n",
       "      <td>0.000272</td>\n",
       "      <td>0.020407</td>\n",
       "      <td>0.061823</td>\n",
       "      <td>0.041046</td>\n",
       "      <td>0.003036</td>\n",
       "      <td>0.001594</td>\n",
       "      <td>0.000181</td>\n",
       "      <td>0.002115</td>\n",
       "      <td>0.015546</td>\n",
       "      <td>0.015095</td>\n",
       "    </tr>\n",
       "    <tr>\n",
       "      <th>min</th>\n",
       "      <td>0.000677</td>\n",
       "      <td>0.833785</td>\n",
       "      <td>0.321755</td>\n",
       "      <td>0.154405</td>\n",
       "      <td>0.003823</td>\n",
       "      <td>0.002185</td>\n",
       "      <td>0.000000</td>\n",
       "      <td>0.000000</td>\n",
       "      <td>0.007895</td>\n",
       "      <td>0.013155</td>\n",
       "    </tr>\n",
       "    <tr>\n",
       "      <th>25%</th>\n",
       "      <td>0.000823</td>\n",
       "      <td>0.858252</td>\n",
       "      <td>0.369487</td>\n",
       "      <td>0.195201</td>\n",
       "      <td>0.004219</td>\n",
       "      <td>0.003300</td>\n",
       "      <td>0.000135</td>\n",
       "      <td>0.002053</td>\n",
       "      <td>0.015749</td>\n",
       "      <td>0.018905</td>\n",
       "    </tr>\n",
       "    <tr>\n",
       "      <th>50%</th>\n",
       "      <td>0.000966</td>\n",
       "      <td>0.877590</td>\n",
       "      <td>0.418410</td>\n",
       "      <td>0.229434</td>\n",
       "      <td>0.006711</td>\n",
       "      <td>0.004532</td>\n",
       "      <td>0.000315</td>\n",
       "      <td>0.003716</td>\n",
       "      <td>0.022347</td>\n",
       "      <td>0.027830</td>\n",
       "    </tr>\n",
       "    <tr>\n",
       "      <th>75%</th>\n",
       "      <td>0.001189</td>\n",
       "      <td>0.891525</td>\n",
       "      <td>0.468295</td>\n",
       "      <td>0.260993</td>\n",
       "      <td>0.010023</td>\n",
       "      <td>0.005878</td>\n",
       "      <td>0.000469</td>\n",
       "      <td>0.005419</td>\n",
       "      <td>0.045947</td>\n",
       "      <td>0.047268</td>\n",
       "    </tr>\n",
       "    <tr>\n",
       "      <th>max</th>\n",
       "      <td>0.001624</td>\n",
       "      <td>0.901218</td>\n",
       "      <td>0.525755</td>\n",
       "      <td>0.289677</td>\n",
       "      <td>0.011602</td>\n",
       "      <td>0.008287</td>\n",
       "      <td>0.000662</td>\n",
       "      <td>0.008280</td>\n",
       "      <td>0.058195</td>\n",
       "      <td>0.064813</td>\n",
       "    </tr>\n",
       "  </tbody>\n",
       "</table>\n",
       "</div>"
      ],
      "text/plain": [
       "       relative_compactness  surface_area   wall_area   roof_area  \\\n",
       "count            768.000000    768.000000  768.000000  768.000000   \n",
       "mean               0.001027      0.874187    0.418857    0.227665   \n",
       "std                0.000272      0.020407    0.061823    0.041046   \n",
       "min                0.000677      0.833785    0.321755    0.154405   \n",
       "25%                0.000823      0.858252    0.369487    0.195201   \n",
       "50%                0.000966      0.877590    0.418410    0.229434   \n",
       "75%                0.001189      0.891525    0.468295    0.260993   \n",
       "max                0.001624      0.901218    0.525755    0.289677   \n",
       "\n",
       "       overall_height  orientation  glazing_area  glazing_area_distribution  \\\n",
       "count      768.000000   768.000000    768.000000                 768.000000   \n",
       "mean         0.007158     0.004628      0.000310                   0.003719   \n",
       "std          0.003036     0.001594      0.000181                   0.002115   \n",
       "min          0.003823     0.002185      0.000000                   0.000000   \n",
       "25%          0.004219     0.003300      0.000135                   0.002053   \n",
       "50%          0.006711     0.004532      0.000315                   0.003716   \n",
       "75%          0.010023     0.005878      0.000469                   0.005419   \n",
       "max          0.011602     0.008287      0.000662                   0.008280   \n",
       "\n",
       "       heating_load  cooling_load  \n",
       "count    768.000000    768.000000  \n",
       "mean       0.030377      0.033365  \n",
       "std        0.015546      0.015095  \n",
       "min        0.007895      0.013155  \n",
       "25%        0.015749      0.018905  \n",
       "50%        0.022347      0.027830  \n",
       "75%        0.045947      0.047268  \n",
       "max        0.058195      0.064813  "
      ]
     },
     "execution_count": 30,
     "metadata": {},
     "output_type": "execute_result"
    }
   ],
   "source": [
    "scaled_df.describe()"
   ]
  },
  {
   "cell_type": "code",
   "execution_count": 31,
   "metadata": {},
   "outputs": [
    {
     "data": {
      "text/html": [
       "<div>\n",
       "<style scoped>\n",
       "    .dataframe tbody tr th:only-of-type {\n",
       "        vertical-align: middle;\n",
       "    }\n",
       "\n",
       "    .dataframe tbody tr th {\n",
       "        vertical-align: top;\n",
       "    }\n",
       "\n",
       "    .dataframe thead th {\n",
       "        text-align: right;\n",
       "    }\n",
       "</style>\n",
       "<table border=\"1\" class=\"dataframe\">\n",
       "  <thead>\n",
       "    <tr style=\"text-align: right;\">\n",
       "      <th></th>\n",
       "      <th>relative_compactness</th>\n",
       "      <th>surface_area</th>\n",
       "      <th>wall_area</th>\n",
       "      <th>roof_area</th>\n",
       "      <th>overall_height</th>\n",
       "      <th>orientation</th>\n",
       "      <th>glazing_area</th>\n",
       "      <th>glazing_area_distribution</th>\n",
       "      <th>heating_load</th>\n",
       "      <th>cooling_load</th>\n",
       "    </tr>\n",
       "  </thead>\n",
       "  <tbody>\n",
       "    <tr>\n",
       "      <th>relative_compactness</th>\n",
       "      <td>1.000000</td>\n",
       "      <td>-0.594722</td>\n",
       "      <td>0.587752</td>\n",
       "      <td>-0.590475</td>\n",
       "      <td>0.897437</td>\n",
       "      <td>0.352968</td>\n",
       "      <td>0.206421</td>\n",
       "      <td>0.213369</td>\n",
       "      <td>0.726960</td>\n",
       "      <td>0.751502</td>\n",
       "    </tr>\n",
       "    <tr>\n",
       "      <th>surface_area</th>\n",
       "      <td>-0.594722</td>\n",
       "      <td>1.000000</td>\n",
       "      <td>-0.990993</td>\n",
       "      <td>0.994902</td>\n",
       "      <td>-0.826346</td>\n",
       "      <td>-0.192627</td>\n",
       "      <td>-0.123151</td>\n",
       "      <td>-0.119252</td>\n",
       "      <td>-0.863769</td>\n",
       "      <td>-0.849694</td>\n",
       "    </tr>\n",
       "    <tr>\n",
       "      <th>wall_area</th>\n",
       "      <td>0.587752</td>\n",
       "      <td>-0.990993</td>\n",
       "      <td>1.000000</td>\n",
       "      <td>-0.999446</td>\n",
       "      <td>0.833047</td>\n",
       "      <td>0.188639</td>\n",
       "      <td>0.109063</td>\n",
       "      <td>0.113696</td>\n",
       "      <td>0.860838</td>\n",
       "      <td>0.847675</td>\n",
       "    </tr>\n",
       "    <tr>\n",
       "      <th>roof_area</th>\n",
       "      <td>-0.590475</td>\n",
       "      <td>0.994902</td>\n",
       "      <td>-0.999446</td>\n",
       "      <td>1.000000</td>\n",
       "      <td>-0.832784</td>\n",
       "      <td>-0.189948</td>\n",
       "      <td>-0.112748</td>\n",
       "      <td>-0.115269</td>\n",
       "      <td>-0.863017</td>\n",
       "      <td>-0.849605</td>\n",
       "    </tr>\n",
       "    <tr>\n",
       "      <th>overall_height</th>\n",
       "      <td>0.897437</td>\n",
       "      <td>-0.826346</td>\n",
       "      <td>0.833047</td>\n",
       "      <td>-0.832784</td>\n",
       "      <td>1.000000</td>\n",
       "      <td>0.312985</td>\n",
       "      <td>0.183229</td>\n",
       "      <td>0.189249</td>\n",
       "      <td>0.907824</td>\n",
       "      <td>0.921506</td>\n",
       "    </tr>\n",
       "    <tr>\n",
       "      <th>orientation</th>\n",
       "      <td>0.352968</td>\n",
       "      <td>-0.192627</td>\n",
       "      <td>0.188639</td>\n",
       "      <td>-0.189948</td>\n",
       "      <td>0.312985</td>\n",
       "      <td>1.000000</td>\n",
       "      <td>0.073123</td>\n",
       "      <td>0.075851</td>\n",
       "      <td>0.246534</td>\n",
       "      <td>0.272160</td>\n",
       "    </tr>\n",
       "    <tr>\n",
       "      <th>glazing_area</th>\n",
       "      <td>0.206421</td>\n",
       "      <td>-0.123151</td>\n",
       "      <td>0.109063</td>\n",
       "      <td>-0.112748</td>\n",
       "      <td>0.183229</td>\n",
       "      <td>0.073123</td>\n",
       "      <td>1.000000</td>\n",
       "      <td>0.247897</td>\n",
       "      <td>0.388477</td>\n",
       "      <td>0.334424</td>\n",
       "    </tr>\n",
       "    <tr>\n",
       "      <th>glazing_area_distribution</th>\n",
       "      <td>0.213369</td>\n",
       "      <td>-0.119252</td>\n",
       "      <td>0.113696</td>\n",
       "      <td>-0.115269</td>\n",
       "      <td>0.189249</td>\n",
       "      <td>0.075851</td>\n",
       "      <td>0.247897</td>\n",
       "      <td>1.000000</td>\n",
       "      <td>0.230141</td>\n",
       "      <td>0.202253</td>\n",
       "    </tr>\n",
       "    <tr>\n",
       "      <th>heating_load</th>\n",
       "      <td>0.726960</td>\n",
       "      <td>-0.863769</td>\n",
       "      <td>0.860838</td>\n",
       "      <td>-0.863017</td>\n",
       "      <td>0.907824</td>\n",
       "      <td>0.246534</td>\n",
       "      <td>0.388477</td>\n",
       "      <td>0.230141</td>\n",
       "      <td>1.000000</td>\n",
       "      <td>0.980398</td>\n",
       "    </tr>\n",
       "    <tr>\n",
       "      <th>cooling_load</th>\n",
       "      <td>0.751502</td>\n",
       "      <td>-0.849694</td>\n",
       "      <td>0.847675</td>\n",
       "      <td>-0.849605</td>\n",
       "      <td>0.921506</td>\n",
       "      <td>0.272160</td>\n",
       "      <td>0.334424</td>\n",
       "      <td>0.202253</td>\n",
       "      <td>0.980398</td>\n",
       "      <td>1.000000</td>\n",
       "    </tr>\n",
       "  </tbody>\n",
       "</table>\n",
       "</div>"
      ],
      "text/plain": [
       "                           relative_compactness  surface_area  wall_area  \\\n",
       "relative_compactness                   1.000000     -0.594722   0.587752   \n",
       "surface_area                          -0.594722      1.000000  -0.990993   \n",
       "wall_area                              0.587752     -0.990993   1.000000   \n",
       "roof_area                             -0.590475      0.994902  -0.999446   \n",
       "overall_height                         0.897437     -0.826346   0.833047   \n",
       "orientation                            0.352968     -0.192627   0.188639   \n",
       "glazing_area                           0.206421     -0.123151   0.109063   \n",
       "glazing_area_distribution              0.213369     -0.119252   0.113696   \n",
       "heating_load                           0.726960     -0.863769   0.860838   \n",
       "cooling_load                           0.751502     -0.849694   0.847675   \n",
       "\n",
       "                           roof_area  overall_height  orientation  \\\n",
       "relative_compactness       -0.590475        0.897437     0.352968   \n",
       "surface_area                0.994902       -0.826346    -0.192627   \n",
       "wall_area                  -0.999446        0.833047     0.188639   \n",
       "roof_area                   1.000000       -0.832784    -0.189948   \n",
       "overall_height             -0.832784        1.000000     0.312985   \n",
       "orientation                -0.189948        0.312985     1.000000   \n",
       "glazing_area               -0.112748        0.183229     0.073123   \n",
       "glazing_area_distribution  -0.115269        0.189249     0.075851   \n",
       "heating_load               -0.863017        0.907824     0.246534   \n",
       "cooling_load               -0.849605        0.921506     0.272160   \n",
       "\n",
       "                           glazing_area  glazing_area_distribution  \\\n",
       "relative_compactness           0.206421                   0.213369   \n",
       "surface_area                  -0.123151                  -0.119252   \n",
       "wall_area                      0.109063                   0.113696   \n",
       "roof_area                     -0.112748                  -0.115269   \n",
       "overall_height                 0.183229                   0.189249   \n",
       "orientation                    0.073123                   0.075851   \n",
       "glazing_area                   1.000000                   0.247897   \n",
       "glazing_area_distribution      0.247897                   1.000000   \n",
       "heating_load                   0.388477                   0.230141   \n",
       "cooling_load                   0.334424                   0.202253   \n",
       "\n",
       "                           heating_load  cooling_load  \n",
       "relative_compactness           0.726960      0.751502  \n",
       "surface_area                  -0.863769     -0.849694  \n",
       "wall_area                      0.860838      0.847675  \n",
       "roof_area                     -0.863017     -0.849605  \n",
       "overall_height                 0.907824      0.921506  \n",
       "orientation                    0.246534      0.272160  \n",
       "glazing_area                   0.388477      0.334424  \n",
       "glazing_area_distribution      0.230141      0.202253  \n",
       "heating_load                   1.000000      0.980398  \n",
       "cooling_load                   0.980398      1.000000  "
      ]
     },
     "execution_count": 31,
     "metadata": {},
     "output_type": "execute_result"
    }
   ],
   "source": [
    "scaled_df.corr(method='pearson')"
   ]
  },
  {
   "cell_type": "code",
   "execution_count": 32,
   "metadata": {},
   "outputs": [
    {
     "data": {
      "image/png": "[encoded data removed]",
      "text/plain": [
       "<Figure size 1440x1080 with 12 Axes>"
      ]
     },
     "metadata": {
      "needs_background": "light"
     },
     "output_type": "display_data"
    }
   ],
   "source": [
    "scaled_df.hist(bins=20, figsize=(20,15),  color = \"green\")\n",
    "plt.show()"
   ]
  },
  {
   "cell_type": "code",
   "execution_count": 33,
   "metadata": {},
   "outputs": [
    {
     "data": {
      "text/plain": [
       "<Figure size 360x360 with 0 Axes>"
      ]
     },
     "metadata": {},
     "output_type": "display_data"
    },
    {
     "data": {
      "image/png": "[encoded data removed]",
      "text/plain": [
       "<Figure size 1440x360 with 16 Axes>"
      ]
     },
     "metadata": {
      "needs_background": "light"
     },
     "output_type": "display_data"
    }
   ],
   "source": [
    "plt.figure(figsize=(5,5))\n",
    "sns.pairplot(data=scaled_df, y_vars=['heating_load','cooling_load'],\n",
    "             x_vars=['relative_compactness', 'surface_area', 'wall_area', 'roof_area', 'overall_height',\n",
    "                     'orientation', 'glazing_area', 'glazing_area_distribution',])\n",
    "plt.show()"
   ]
  },
  {
   "cell_type": "code",
   "execution_count": 34,
   "metadata": {},
   "outputs": [
    {
     "data": {
      "text/plain": [
       "{'whiskers': [<matplotlib.lines.Line2D at 0x219e7940700>,\n",
       "  <matplotlib.lines.Line2D at 0x219e7940a60>,\n",
       "  <matplotlib.lines.Line2D at 0x219e8820d60>,\n",
       "  <matplotlib.lines.Line2D at 0x219e882c0d0>,\n",
       "  <matplotlib.lines.Line2D at 0x219e88392e0>,\n",
       "  <matplotlib.lines.Line2D at 0x219e8839610>,\n",
       "  <matplotlib.lines.Line2D at 0x219e8845820>,\n",
       "  <matplotlib.lines.Line2D at 0x219e8845b50>,\n",
       "  <matplotlib.lines.Line2D at 0x219e8853d60>,\n",
       "  <matplotlib.lines.Line2D at 0x219e88620d0>,\n",
       "  <matplotlib.lines.Line2D at 0x219e886c2e0>,\n",
       "  <matplotlib.lines.Line2D at 0x219e886c610>,\n",
       "  <matplotlib.lines.Line2D at 0x219e8879820>,\n",
       "  <matplotlib.lines.Line2D at 0x219e8879b50>,\n",
       "  <matplotlib.lines.Line2D at 0x219e8887d60>,\n",
       "  <matplotlib.lines.Line2D at 0x219e88940d0>],\n",
       " 'caps': [<matplotlib.lines.Line2D at 0x219e7940dc0>,\n",
       "  <matplotlib.lines.Line2D at 0x219e8820160>,\n",
       "  <matplotlib.lines.Line2D at 0x219e882c400>,\n",
       "  <matplotlib.lines.Line2D at 0x219e882c730>,\n",
       "  <matplotlib.lines.Line2D at 0x219e8839940>,\n",
       "  <matplotlib.lines.Line2D at 0x219e8839c70>,\n",
       "  <matplotlib.lines.Line2D at 0x219e8845e80>,\n",
       "  <matplotlib.lines.Line2D at 0x219e88531f0>,\n",
       "  <matplotlib.lines.Line2D at 0x219e8862400>,\n",
       "  <matplotlib.lines.Line2D at 0x219e8862730>,\n",
       "  <matplotlib.lines.Line2D at 0x219e886c940>,\n",
       "  <matplotlib.lines.Line2D at 0x219e886cc70>,\n",
       "  <matplotlib.lines.Line2D at 0x219e8879e80>,\n",
       "  <matplotlib.lines.Line2D at 0x219e88871f0>,\n",
       "  <matplotlib.lines.Line2D at 0x219e8894400>,\n",
       "  <matplotlib.lines.Line2D at 0x219e8894730>],\n",
       " 'boxes': [<matplotlib.patches.PathPatch at 0x219e79403a0>,\n",
       "  <matplotlib.patches.PathPatch at 0x219e8820a30>,\n",
       "  <matplotlib.patches.PathPatch at 0x219e882cf40>,\n",
       "  <matplotlib.patches.PathPatch at 0x219e88454c0>,\n",
       "  <matplotlib.patches.PathPatch at 0x219e8853a00>,\n",
       "  <matplotlib.patches.PathPatch at 0x219e8862f40>,\n",
       "  <matplotlib.patches.PathPatch at 0x219e88794c0>,\n",
       "  <matplotlib.patches.PathPatch at 0x219e8887a00>],\n",
       " 'medians': [<matplotlib.lines.Line2D at 0x219e88204c0>,\n",
       "  <matplotlib.lines.Line2D at 0x219e882ca60>,\n",
       "  <matplotlib.lines.Line2D at 0x219e8839fa0>,\n",
       "  <matplotlib.lines.Line2D at 0x219e8853520>,\n",
       "  <matplotlib.lines.Line2D at 0x219e8862a60>,\n",
       "  <matplotlib.lines.Line2D at 0x219e886cfa0>,\n",
       "  <matplotlib.lines.Line2D at 0x219e8887520>,\n",
       "  <matplotlib.lines.Line2D at 0x219e8894a60>],\n",
       " 'fliers': [<matplotlib.lines.Line2D at 0x219e8820820>,\n",
       "  <matplotlib.lines.Line2D at 0x219e882cd90>,\n",
       "  <matplotlib.lines.Line2D at 0x219e8845310>,\n",
       "  <matplotlib.lines.Line2D at 0x219e8853850>,\n",
       "  <matplotlib.lines.Line2D at 0x219e8862d90>,\n",
       "  <matplotlib.lines.Line2D at 0x219e8879310>,\n",
       "  <matplotlib.lines.Line2D at 0x219e8887850>,\n",
       "  <matplotlib.lines.Line2D at 0x219e8894d90>],\n",
       " 'means': []}"
      ]
     },
     "execution_count": 34,
     "metadata": {},
     "output_type": "execute_result"
    },
    {
     "data": {
      "image/png": "[encoded data removed]",
      "text/plain": [
       "<Figure size 432x288 with 1 Axes>"
      ]
     },
     "metadata": {
      "needs_background": "light"
     },
     "output_type": "display_data"
    }
   ],
   "source": [
    "plt.boxplot(scaled_df.iloc[:,:8], widths = 0.5, patch_artist = True)"
   ]
  },
  {
   "cell_type": "code",
   "execution_count": 35,
   "metadata": {},
   "outputs": [
    {
     "data": {
      "text/plain": [
       "{'whiskers': [<matplotlib.lines.Line2D at 0x219e88f8be0>,\n",
       "  <matplotlib.lines.Line2D at 0x219e88f8f10>,\n",
       "  <matplotlib.lines.Line2D at 0x219e89162b0>,\n",
       "  <matplotlib.lines.Line2D at 0x219e89165e0>],\n",
       " 'caps': [<matplotlib.lines.Line2D at 0x219e890a280>,\n",
       "  <matplotlib.lines.Line2D at 0x219e890a5b0>,\n",
       "  <matplotlib.lines.Line2D at 0x219e8916910>,\n",
       "  <matplotlib.lines.Line2D at 0x219e8916c40>],\n",
       " 'boxes': [<matplotlib.lines.Line2D at 0x219e88f89d0>,\n",
       "  <matplotlib.lines.Line2D at 0x219e890af40>],\n",
       " 'medians': [<matplotlib.lines.Line2D at 0x219e890a8e0>,\n",
       "  <matplotlib.lines.Line2D at 0x219e8916f70>],\n",
       " 'fliers': [<matplotlib.lines.Line2D at 0x219e890ac10>,\n",
       "  <matplotlib.lines.Line2D at 0x219e89232e0>],\n",
       " 'means': []}"
      ]
     },
     "execution_count": 35,
     "metadata": {},
     "output_type": "execute_result"
    },
    {
     "data": {
      "image/png": "[encoded data removed]",
      "text/plain": [
       "<Figure size 432x288 with 1 Axes>"
      ]
     },
     "metadata": {
      "needs_background": "light"
     },
     "output_type": "display_data"
    }
   ],
   "source": [
    "plt.boxplot(scaled_df.iloc[:, -2:])"
   ]
  },
  {
   "cell_type": "markdown",
   "metadata": {},
   "source": [
    "* Box plots are useful as they provide a visual summary of the data that allows researchers to quickly identify the mean values, distribution of the dataset, and signs of skewness. \n",
    "* Interquartile ranges (ie, box lengths) are compared to examine how the data is distributed. The longer the box, the more dispersed the data will be. The smaller the box, the less dispersed the data will be. \n",
    "* When boxplots are examined, glazing area distibution values more dispersed than the values of wall area. It is observed that the all median values were different from each other. There is no outlier none of them. Surface area and wall area appears like symmetric. Morever, heating load and cooling load appears right-skewed. So, the top whisker is much longer than the bottom whisker."
   ]
  },
  {
   "cell_type": "code",
   "execution_count": 36,
   "metadata": {},
   "outputs": [],
   "source": [
    "X = scaled_df[['relative_compactness', 'surface_area', 'wall_area', 'roof_area', 'overall_height', 'orientation', 'glazing_area', 'glazing_area_distribution']]\n",
    "Y1 = scaled_df[['heating_load']]\n",
    "Y2 = scaled_df[['cooling_load']]"
   ]
  },
  {
   "cell_type": "code",
   "execution_count": 37,
   "metadata": {},
   "outputs": [
    {
     "data": {
      "text/html": [
       "<div>\n",
       "<style scoped>\n",
       "    .dataframe tbody tr th:only-of-type {\n",
       "        vertical-align: middle;\n",
       "    }\n",
       "\n",
       "    .dataframe tbody tr th {\n",
       "        vertical-align: top;\n",
       "    }\n",
       "\n",
       "    .dataframe thead th {\n",
       "        text-align: right;\n",
       "    }\n",
       "</style>\n",
       "<table border=\"1\" class=\"dataframe\">\n",
       "  <thead>\n",
       "    <tr style=\"text-align: right;\">\n",
       "      <th></th>\n",
       "      <th>relative_compactness</th>\n",
       "      <th>surface_area</th>\n",
       "      <th>wall_area</th>\n",
       "      <th>roof_area</th>\n",
       "      <th>overall_height</th>\n",
       "      <th>orientation</th>\n",
       "      <th>glazing_area</th>\n",
       "      <th>glazing_area_distribution</th>\n",
       "    </tr>\n",
       "  </thead>\n",
       "  <tbody>\n",
       "    <tr>\n",
       "      <th>0</th>\n",
       "      <td>0.001624</td>\n",
       "      <td>0.852714</td>\n",
       "      <td>0.487265</td>\n",
       "      <td>0.182725</td>\n",
       "      <td>0.011602</td>\n",
       "      <td>0.003315</td>\n",
       "      <td>0.0</td>\n",
       "      <td>0.0</td>\n",
       "    </tr>\n",
       "    <tr>\n",
       "      <th>1</th>\n",
       "      <td>0.001624</td>\n",
       "      <td>0.852709</td>\n",
       "      <td>0.487262</td>\n",
       "      <td>0.182723</td>\n",
       "      <td>0.011601</td>\n",
       "      <td>0.004972</td>\n",
       "      <td>0.0</td>\n",
       "      <td>0.0</td>\n",
       "    </tr>\n",
       "    <tr>\n",
       "      <th>2</th>\n",
       "      <td>0.001624</td>\n",
       "      <td>0.852700</td>\n",
       "      <td>0.487257</td>\n",
       "      <td>0.182722</td>\n",
       "      <td>0.011601</td>\n",
       "      <td>0.006629</td>\n",
       "      <td>0.0</td>\n",
       "      <td>0.0</td>\n",
       "    </tr>\n",
       "    <tr>\n",
       "      <th>3</th>\n",
       "      <td>0.001624</td>\n",
       "      <td>0.852690</td>\n",
       "      <td>0.487251</td>\n",
       "      <td>0.182719</td>\n",
       "      <td>0.011601</td>\n",
       "      <td>0.008287</td>\n",
       "      <td>0.0</td>\n",
       "      <td>0.0</td>\n",
       "    </tr>\n",
       "    <tr>\n",
       "      <th>4</th>\n",
       "      <td>0.001364</td>\n",
       "      <td>0.854113</td>\n",
       "      <td>0.482759</td>\n",
       "      <td>0.185677</td>\n",
       "      <td>0.010610</td>\n",
       "      <td>0.003031</td>\n",
       "      <td>0.0</td>\n",
       "      <td>0.0</td>\n",
       "    </tr>\n",
       "  </tbody>\n",
       "</table>\n",
       "</div>"
      ],
      "text/plain": [
       "   relative_compactness  surface_area  wall_area  roof_area  overall_height  \\\n",
       "0              0.001624      0.852714   0.487265   0.182725        0.011602   \n",
       "1              0.001624      0.852709   0.487262   0.182723        0.011601   \n",
       "2              0.001624      0.852700   0.487257   0.182722        0.011601   \n",
       "3              0.001624      0.852690   0.487251   0.182719        0.011601   \n",
       "4              0.001364      0.854113   0.482759   0.185677        0.010610   \n",
       "\n",
       "   orientation  glazing_area  glazing_area_distribution  \n",
       "0     0.003315           0.0                        0.0  \n",
       "1     0.004972           0.0                        0.0  \n",
       "2     0.006629           0.0                        0.0  \n",
       "3     0.008287           0.0                        0.0  \n",
       "4     0.003031           0.0                        0.0  "
      ]
     },
     "execution_count": 37,
     "metadata": {},
     "output_type": "execute_result"
    }
   ],
   "source": [
    "X.head()"
   ]
  },
  {
   "cell_type": "code",
   "execution_count": 38,
   "metadata": {},
   "outputs": [
    {
     "data": {
      "text/html": [
       "<div>\n",
       "<style scoped>\n",
       "    .dataframe tbody tr th:only-of-type {\n",
       "        vertical-align: middle;\n",
       "    }\n",
       "\n",
       "    .dataframe tbody tr th {\n",
       "        vertical-align: top;\n",
       "    }\n",
       "\n",
       "    .dataframe thead th {\n",
       "        text-align: right;\n",
       "    }\n",
       "</style>\n",
       "<table border=\"1\" class=\"dataframe\">\n",
       "  <thead>\n",
       "    <tr style=\"text-align: right;\">\n",
       "      <th></th>\n",
       "      <th>heating_load</th>\n",
       "    </tr>\n",
       "  </thead>\n",
       "  <tbody>\n",
       "    <tr>\n",
       "      <th>0</th>\n",
       "      <td>0.025772</td>\n",
       "    </tr>\n",
       "    <tr>\n",
       "      <th>1</th>\n",
       "      <td>0.025772</td>\n",
       "    </tr>\n",
       "    <tr>\n",
       "      <th>2</th>\n",
       "      <td>0.025772</td>\n",
       "    </tr>\n",
       "    <tr>\n",
       "      <th>3</th>\n",
       "      <td>0.025771</td>\n",
       "    </tr>\n",
       "    <tr>\n",
       "      <th>4</th>\n",
       "      <td>0.031588</td>\n",
       "    </tr>\n",
       "  </tbody>\n",
       "</table>\n",
       "</div>"
      ],
      "text/plain": [
       "   heating_load\n",
       "0      0.025772\n",
       "1      0.025772\n",
       "2      0.025772\n",
       "3      0.025771\n",
       "4      0.031588"
      ]
     },
     "execution_count": 38,
     "metadata": {},
     "output_type": "execute_result"
    }
   ],
   "source": [
    "Y1.head()"
   ]
  },
  {
   "cell_type": "code",
   "execution_count": 39,
   "metadata": {},
   "outputs": [
    {
     "data": {
      "text/html": [
       "<div>\n",
       "<style scoped>\n",
       "    .dataframe tbody tr th:only-of-type {\n",
       "        vertical-align: middle;\n",
       "    }\n",
       "\n",
       "    .dataframe tbody tr th {\n",
       "        vertical-align: top;\n",
       "    }\n",
       "\n",
       "    .dataframe thead th {\n",
       "        text-align: right;\n",
       "    }\n",
       "</style>\n",
       "<table border=\"1\" class=\"dataframe\">\n",
       "  <thead>\n",
       "    <tr style=\"text-align: right;\">\n",
       "      <th></th>\n",
       "      <th>cooling_load</th>\n",
       "    </tr>\n",
       "  </thead>\n",
       "  <tbody>\n",
       "    <tr>\n",
       "      <th>0</th>\n",
       "      <td>0.035352</td>\n",
       "    </tr>\n",
       "    <tr>\n",
       "      <th>1</th>\n",
       "      <td>0.035351</td>\n",
       "    </tr>\n",
       "    <tr>\n",
       "      <th>2</th>\n",
       "      <td>0.035351</td>\n",
       "    </tr>\n",
       "    <tr>\n",
       "      <th>3</th>\n",
       "      <td>0.035351</td>\n",
       "    </tr>\n",
       "    <tr>\n",
       "      <th>4</th>\n",
       "      <td>0.042865</td>\n",
       "    </tr>\n",
       "  </tbody>\n",
       "</table>\n",
       "</div>"
      ],
      "text/plain": [
       "   cooling_load\n",
       "0      0.035352\n",
       "1      0.035351\n",
       "2      0.035351\n",
       "3      0.035351\n",
       "4      0.042865"
      ]
     },
     "execution_count": 39,
     "metadata": {},
     "output_type": "execute_result"
    }
   ],
   "source": [
    "Y2.head()"
   ]
  },
  {
   "cell_type": "markdown",
   "metadata": {},
   "source": [
    "# Variable Elimination"
   ]
  },
  {
   "cell_type": "markdown",
   "metadata": {},
   "source": [
    "* Variable elimination or selection is used to well predict the response with minimal complexity. Variable selection is the task of determining the best subset of predictors to include in the model among all possible subsets of predictors."
   ]
  },
  {
   "cell_type": "markdown",
   "metadata": {},
   "source": [
    "* Backward elimination, a variable selection procedure in which all variables are entered into the equation and then removed sequentially, was applied. Various multiple linear regressions were applied by selecting different attributes."
   ]
  },
  {
   "cell_type": "code",
   "execution_count": 40,
   "metadata": {},
   "outputs": [],
   "source": [
    "#so the model will train until only four features are left.\n",
    "lreg = LinearRegression()\n",
    "\n",
    "sfs1 = sfs(lreg, k_features=4, forward=False, verbose=1, scoring='r2')\n",
    "sfs2 = sfs(lreg, k_features=4, forward=False, verbose=1, scoring='r2')"
   ]
  },
  {
   "cell_type": "code",
   "execution_count": 41,
   "metadata": {},
   "outputs": [
    {
     "name": "stderr",
     "output_type": "stream",
     "text": [
      "[Parallel(n_jobs=1)]: Using backend SequentialBackend with 1 concurrent workers.\n",
      "[Parallel(n_jobs=1)]: Done   8 out of   8 | elapsed:    0.1s finished\n",
      "Features: 7/4[Parallel(n_jobs=1)]: Using backend SequentialBackend with 1 concurrent workers.\n",
      "[Parallel(n_jobs=1)]: Done   7 out of   7 | elapsed:    0.1s finished\n",
      "Features: 6/4[Parallel(n_jobs=1)]: Using backend SequentialBackend with 1 concurrent workers.\n",
      "[Parallel(n_jobs=1)]: Done   6 out of   6 | elapsed:    0.1s finished\n",
      "Features: 5/4[Parallel(n_jobs=1)]: Using backend SequentialBackend with 1 concurrent workers.\n",
      "[Parallel(n_jobs=1)]: Done   5 out of   5 | elapsed:    0.0s finished\n",
      "Features: 4/4"
     ]
    }
   ],
   "source": [
    "sfs1 = sfs1.fit(X, Y1)"
   ]
  },
  {
   "cell_type": "code",
   "execution_count": 42,
   "metadata": {},
   "outputs": [
    {
     "name": "stderr",
     "output_type": "stream",
     "text": [
      "[Parallel(n_jobs=1)]: Using backend SequentialBackend with 1 concurrent workers.\n",
      "[Parallel(n_jobs=1)]: Done   8 out of   8 | elapsed:    0.1s finished\n",
      "Features: 7/4[Parallel(n_jobs=1)]: Using backend SequentialBackend with 1 concurrent workers.\n",
      "[Parallel(n_jobs=1)]: Done   7 out of   7 | elapsed:    0.1s finished\n",
      "Features: 6/4[Parallel(n_jobs=1)]: Using backend SequentialBackend with 1 concurrent workers.\n",
      "[Parallel(n_jobs=1)]: Done   6 out of   6 | elapsed:    0.1s finished\n",
      "Features: 5/4[Parallel(n_jobs=1)]: Using backend SequentialBackend with 1 concurrent workers.\n",
      "[Parallel(n_jobs=1)]: Done   5 out of   5 | elapsed:    0.0s finished\n",
      "Features: 4/4"
     ]
    }
   ],
   "source": [
    "sfs2 = sfs2.fit(X, Y2)"
   ]
  },
  {
   "cell_type": "code",
   "execution_count": 43,
   "metadata": {},
   "outputs": [
    {
     "name": "stdout",
     "output_type": "stream",
     "text": [
      "['relative_compactness', 'roof_area', 'overall_height', 'glazing_area']\n"
     ]
    }
   ],
   "source": [
    "feat_names1 = list(sfs1.k_feature_names_)\n",
    "print(feat_names1)"
   ]
  },
  {
   "cell_type": "code",
   "execution_count": 44,
   "metadata": {},
   "outputs": [
    {
     "name": "stdout",
     "output_type": "stream",
     "text": [
      "['relative_compactness', 'roof_area', 'overall_height', 'glazing_area']\n"
     ]
    }
   ],
   "source": [
    "feat_names2 = list(sfs1.k_feature_names_)\n",
    "print(feat_names2)"
   ]
  },
  {
   "cell_type": "code",
   "execution_count": 45,
   "metadata": {},
   "outputs": [
    {
     "data": {
      "text/plain": [
       "0.9159478675982399"
      ]
     },
     "execution_count": 45,
     "metadata": {},
     "output_type": "execute_result"
    }
   ],
   "source": [
    "#prediction score for these 4 features can be accesses via k_score_:\n",
    "sfs1.k_score_"
   ]
  },
  {
   "cell_type": "code",
   "execution_count": 46,
   "metadata": {},
   "outputs": [
    {
     "data": {
      "text/plain": [
       "0.9087628500833697"
      ]
     },
     "execution_count": 46,
     "metadata": {},
     "output_type": "execute_result"
    }
   ],
   "source": [
    "sfs2.k_score_"
   ]
  },
  {
   "cell_type": "code",
   "execution_count": 48,
   "metadata": {},
   "outputs": [
    {
     "data": {
      "text/plain": [
       "{8: {'feature_idx': (0, 1, 2, 3, 4, 5, 6, 7),\n",
       "  'cv_scores': array([0.84312673, 0.92204195, 0.94436267, 0.9481888 , 0.94056168]),\n",
       "  'avg_score': 0.9196563656113591,\n",
       "  'feature_names': ('relative_compactness',\n",
       "   'surface_area',\n",
       "   'wall_area',\n",
       "   'roof_area',\n",
       "   'overall_height',\n",
       "   'orientation',\n",
       "   'glazing_area',\n",
       "   'glazing_area_distribution')},\n",
       " 7: {'feature_idx': (0, 1, 2, 3, 4, 5, 6),\n",
       "  'cv_scores': array([0.85387878, 0.91703309, 0.94468594, 0.95099049, 0.94756201]),\n",
       "  'avg_score': 0.9228300619058581,\n",
       "  'feature_names': ('relative_compactness',\n",
       "   'surface_area',\n",
       "   'wall_area',\n",
       "   'roof_area',\n",
       "   'overall_height',\n",
       "   'orientation',\n",
       "   'glazing_area')},\n",
       " 6: {'feature_idx': (0, 1, 2, 3, 4, 6),\n",
       "  'cv_scores': array([0.8538391 , 0.91706906, 0.944774  , 0.95098756, 0.94754863]),\n",
       "  'avg_score': 0.9228436671286244,\n",
       "  'feature_names': ('relative_compactness',\n",
       "   'surface_area',\n",
       "   'wall_area',\n",
       "   'roof_area',\n",
       "   'overall_height',\n",
       "   'glazing_area')},\n",
       " 5: {'feature_idx': (0, 2, 3, 4, 6),\n",
       "  'cv_scores': array([0.85371363, 0.91697139, 0.9447699 , 0.95095037, 0.94753616]),\n",
       "  'avg_score': 0.9227882916584791,\n",
       "  'feature_names': ('relative_compactness',\n",
       "   'wall_area',\n",
       "   'roof_area',\n",
       "   'overall_height',\n",
       "   'glazing_area')},\n",
       " 4: {'feature_idx': (0, 3, 4, 6),\n",
       "  'cv_scores': array([0.84369138, 0.91033845, 0.93940379, 0.94583601, 0.94046971]),\n",
       "  'avg_score': 0.9159478675982399,\n",
       "  'feature_names': ('relative_compactness',\n",
       "   'roof_area',\n",
       "   'overall_height',\n",
       "   'glazing_area')}}"
      ]
     },
     "execution_count": 48,
     "metadata": {},
     "output_type": "execute_result"
    }
   ],
   "source": [
    "sfs1.subsets_"
   ]
  },
  {
   "cell_type": "code",
   "execution_count": 49,
   "metadata": {},
   "outputs": [
    {
     "data": {
      "text/plain": [
       "{8: {'feature_idx': (0, 1, 2, 3, 4, 5, 6, 7),\n",
       "  'cv_scores': array([0.88193201, 0.90164038, 0.92322017, 0.92979271, 0.92976766]),\n",
       "  'avg_score': 0.9132705858738539,\n",
       "  'feature_names': ('relative_compactness',\n",
       "   'surface_area',\n",
       "   'wall_area',\n",
       "   'roof_area',\n",
       "   'overall_height',\n",
       "   'orientation',\n",
       "   'glazing_area',\n",
       "   'glazing_area_distribution')},\n",
       " 7: {'feature_idx': (0, 1, 2, 3, 4, 5, 6),\n",
       "  'cv_scores': array([0.88914373, 0.90148888, 0.92327599, 0.93101476, 0.93122791]),\n",
       "  'avg_score': 0.9152302519028256,\n",
       "  'feature_names': ('relative_compactness',\n",
       "   'surface_area',\n",
       "   'wall_area',\n",
       "   'roof_area',\n",
       "   'overall_height',\n",
       "   'orientation',\n",
       "   'glazing_area')},\n",
       " 6: {'feature_idx': (0, 2, 3, 4, 5, 6),\n",
       "  'cv_scores': array([0.88932729, 0.90133906, 0.92319052, 0.93101826, 0.93136552]),\n",
       "  'avg_score': 0.9152481319084259,\n",
       "  'feature_names': ('relative_compactness',\n",
       "   'wall_area',\n",
       "   'roof_area',\n",
       "   'overall_height',\n",
       "   'orientation',\n",
       "   'glazing_area')},\n",
       " 5: {'feature_idx': (0, 2, 3, 4, 6),\n",
       "  'cv_scores': array([0.88930789, 0.90118886, 0.92367852, 0.93060548, 0.9311965 ]),\n",
       "  'avg_score': 0.915195449463528,\n",
       "  'feature_names': ('relative_compactness',\n",
       "   'wall_area',\n",
       "   'roof_area',\n",
       "   'overall_height',\n",
       "   'glazing_area')},\n",
       " 4: {'feature_idx': (0, 3, 4, 6),\n",
       "  'cv_scores': array([0.88122411, 0.89457701, 0.91869086, 0.92524419, 0.92407808]),\n",
       "  'avg_score': 0.9087628500833697,\n",
       "  'feature_names': ('relative_compactness',\n",
       "   'roof_area',\n",
       "   'overall_height',\n",
       "   'glazing_area')}}"
      ]
     },
     "execution_count": 49,
     "metadata": {},
     "output_type": "execute_result"
    }
   ],
   "source": [
    "sfs2.subsets_"
   ]
  },
  {
   "cell_type": "code",
   "execution_count": 50,
   "metadata": {},
   "outputs": [
    {
     "name": "stderr",
     "output_type": "stream",
     "text": [
      "<ipython-input-50-cc688df1874c>:2: SettingWithCopyWarning: \n",
      "A value is trying to be set on a copy of a slice from a DataFrame.\n",
      "Try using .loc[row_indexer,col_indexer] = value instead\n",
      "\n",
      "See the caveats in the documentation: https://pandas.pydata.org/pandas-docs/stable/user_guide/indexing.html#returning-a-view-versus-a-copy\n",
      "  new_data1['heating_load'] = scaled_df['heating_load']\n"
     ]
    },
    {
     "data": {
      "text/html": [
       "<div>\n",
       "<style scoped>\n",
       "    .dataframe tbody tr th:only-of-type {\n",
       "        vertical-align: middle;\n",
       "    }\n",
       "\n",
       "    .dataframe tbody tr th {\n",
       "        vertical-align: top;\n",
       "    }\n",
       "\n",
       "    .dataframe thead th {\n",
       "        text-align: right;\n",
       "    }\n",
       "</style>\n",
       "<table border=\"1\" class=\"dataframe\">\n",
       "  <thead>\n",
       "    <tr style=\"text-align: right;\">\n",
       "      <th></th>\n",
       "      <th>relative_compactness</th>\n",
       "      <th>roof_area</th>\n",
       "      <th>overall_height</th>\n",
       "      <th>glazing_area</th>\n",
       "      <th>heating_load</th>\n",
       "    </tr>\n",
       "  </thead>\n",
       "  <tbody>\n",
       "    <tr>\n",
       "      <th>0</th>\n",
       "      <td>0.001624</td>\n",
       "      <td>0.182725</td>\n",
       "      <td>0.011602</td>\n",
       "      <td>0.0</td>\n",
       "      <td>0.025772</td>\n",
       "    </tr>\n",
       "    <tr>\n",
       "      <th>1</th>\n",
       "      <td>0.001624</td>\n",
       "      <td>0.182723</td>\n",
       "      <td>0.011601</td>\n",
       "      <td>0.0</td>\n",
       "      <td>0.025772</td>\n",
       "    </tr>\n",
       "    <tr>\n",
       "      <th>2</th>\n",
       "      <td>0.001624</td>\n",
       "      <td>0.182722</td>\n",
       "      <td>0.011601</td>\n",
       "      <td>0.0</td>\n",
       "      <td>0.025772</td>\n",
       "    </tr>\n",
       "    <tr>\n",
       "      <th>3</th>\n",
       "      <td>0.001624</td>\n",
       "      <td>0.182719</td>\n",
       "      <td>0.011601</td>\n",
       "      <td>0.0</td>\n",
       "      <td>0.025771</td>\n",
       "    </tr>\n",
       "    <tr>\n",
       "      <th>4</th>\n",
       "      <td>0.001364</td>\n",
       "      <td>0.185677</td>\n",
       "      <td>0.010610</td>\n",
       "      <td>0.0</td>\n",
       "      <td>0.031588</td>\n",
       "    </tr>\n",
       "  </tbody>\n",
       "</table>\n",
       "</div>"
      ],
      "text/plain": [
       "   relative_compactness  roof_area  overall_height  glazing_area  heating_load\n",
       "0              0.001624   0.182725        0.011602           0.0      0.025772\n",
       "1              0.001624   0.182723        0.011601           0.0      0.025772\n",
       "2              0.001624   0.182722        0.011601           0.0      0.025772\n",
       "3              0.001624   0.182719        0.011601           0.0      0.025771\n",
       "4              0.001364   0.185677        0.010610           0.0      0.031588"
      ]
     },
     "execution_count": 50,
     "metadata": {},
     "output_type": "execute_result"
    }
   ],
   "source": [
    "new_data1 = scaled_df[feat_names1]\n",
    "new_data1['heating_load'] = scaled_df['heating_load']\n",
    "\n",
    "new_data1.head()"
   ]
  },
  {
   "cell_type": "code",
   "execution_count": 51,
   "metadata": {},
   "outputs": [
    {
     "name": "stderr",
     "output_type": "stream",
     "text": [
      "<ipython-input-51-d441cc2e98b8>:2: SettingWithCopyWarning: \n",
      "A value is trying to be set on a copy of a slice from a DataFrame.\n",
      "Try using .loc[row_indexer,col_indexer] = value instead\n",
      "\n",
      "See the caveats in the documentation: https://pandas.pydata.org/pandas-docs/stable/user_guide/indexing.html#returning-a-view-versus-a-copy\n",
      "  new_data2['cooling_load'] = scaled_df['cooling_load']\n"
     ]
    },
    {
     "data": {
      "text/html": [
       "<div>\n",
       "<style scoped>\n",
       "    .dataframe tbody tr th:only-of-type {\n",
       "        vertical-align: middle;\n",
       "    }\n",
       "\n",
       "    .dataframe tbody tr th {\n",
       "        vertical-align: top;\n",
       "    }\n",
       "\n",
       "    .dataframe thead th {\n",
       "        text-align: right;\n",
       "    }\n",
       "</style>\n",
       "<table border=\"1\" class=\"dataframe\">\n",
       "  <thead>\n",
       "    <tr style=\"text-align: right;\">\n",
       "      <th></th>\n",
       "      <th>relative_compactness</th>\n",
       "      <th>roof_area</th>\n",
       "      <th>overall_height</th>\n",
       "      <th>glazing_area</th>\n",
       "      <th>cooling_load</th>\n",
       "    </tr>\n",
       "  </thead>\n",
       "  <tbody>\n",
       "    <tr>\n",
       "      <th>0</th>\n",
       "      <td>0.001624</td>\n",
       "      <td>0.182725</td>\n",
       "      <td>0.011602</td>\n",
       "      <td>0.0</td>\n",
       "      <td>0.035352</td>\n",
       "    </tr>\n",
       "    <tr>\n",
       "      <th>1</th>\n",
       "      <td>0.001624</td>\n",
       "      <td>0.182723</td>\n",
       "      <td>0.011601</td>\n",
       "      <td>0.0</td>\n",
       "      <td>0.035351</td>\n",
       "    </tr>\n",
       "    <tr>\n",
       "      <th>2</th>\n",
       "      <td>0.001624</td>\n",
       "      <td>0.182722</td>\n",
       "      <td>0.011601</td>\n",
       "      <td>0.0</td>\n",
       "      <td>0.035351</td>\n",
       "    </tr>\n",
       "    <tr>\n",
       "      <th>3</th>\n",
       "      <td>0.001624</td>\n",
       "      <td>0.182719</td>\n",
       "      <td>0.011601</td>\n",
       "      <td>0.0</td>\n",
       "      <td>0.035351</td>\n",
       "    </tr>\n",
       "    <tr>\n",
       "      <th>4</th>\n",
       "      <td>0.001364</td>\n",
       "      <td>0.185677</td>\n",
       "      <td>0.010610</td>\n",
       "      <td>0.0</td>\n",
       "      <td>0.042865</td>\n",
       "    </tr>\n",
       "  </tbody>\n",
       "</table>\n",
       "</div>"
      ],
      "text/plain": [
       "   relative_compactness  roof_area  overall_height  glazing_area  cooling_load\n",
       "0              0.001624   0.182725        0.011602           0.0      0.035352\n",
       "1              0.001624   0.182723        0.011601           0.0      0.035351\n",
       "2              0.001624   0.182722        0.011601           0.0      0.035351\n",
       "3              0.001624   0.182719        0.011601           0.0      0.035351\n",
       "4              0.001364   0.185677        0.010610           0.0      0.042865"
      ]
     },
     "execution_count": 51,
     "metadata": {},
     "output_type": "execute_result"
    }
   ],
   "source": [
    "new_data2 = scaled_df[feat_names2]\n",
    "new_data2['cooling_load'] = scaled_df['cooling_load']\n",
    "\n",
    "new_data2.head()"
   ]
  },
  {
   "cell_type": "code",
   "execution_count": 52,
   "metadata": {},
   "outputs": [
    {
     "data": {
      "text/plain": [
       "((768, 5), (768, 10))"
      ]
     },
     "execution_count": 52,
     "metadata": {},
     "output_type": "execute_result"
    }
   ],
   "source": [
    "# shape of new and original data\n",
    "new_data1.shape, df.shape"
   ]
  },
  {
   "cell_type": "code",
   "execution_count": 53,
   "metadata": {},
   "outputs": [
    {
     "data": {
      "text/plain": [
       "((768, 5), (768, 10))"
      ]
     },
     "execution_count": 53,
     "metadata": {},
     "output_type": "execute_result"
    }
   ],
   "source": [
    "new_data2.shape, df.shape"
   ]
  },
  {
   "cell_type": "markdown",
   "metadata": {},
   "source": [
    "* The r2 value is still high when estimated by selecting 4 values of attributes in the two responses. Therefore, models will be tested by continuing with fewer features to reduce the model complex."
   ]
  },
  {
   "cell_type": "code",
   "execution_count": 54,
   "metadata": {},
   "outputs": [],
   "source": [
    "Xnew = scaled_df[['relative_compactness', 'roof_area', 'overall_height', 'glazing_area']]\n",
    "Y1 = scaled_df[['heating_load']]\n",
    "Y2 = scaled_df[['cooling_load']]"
   ]
  },
  {
   "cell_type": "markdown",
   "metadata": {},
   "source": [
    "# Train - Test Data"
   ]
  },
  {
   "cell_type": "markdown",
   "metadata": {},
   "source": [
    "* Holdout Method is the simplest sort of method to evaluate a classifier. In this method, the data set is separated into two sets, called the Training set and Test set. The training set is what the model is trained on, and the test set is used to see how well this model performs on unseen data. A common distinction when using the hold-out method is to use 80% of the data for training and the remaining 20% for testing."
   ]
  },
  {
   "cell_type": "code",
   "execution_count": 55,
   "metadata": {},
   "outputs": [],
   "source": [
    "X_train, X_test, y1_train, y1_test, y2_train, y2_test = train_test_split(Xnew, Y1, Y2, test_size=0.2, random_state = 123)"
   ]
  },
  {
   "cell_type": "markdown",
   "metadata": {},
   "source": [
    "# Models"
   ]
  },
  {
   "cell_type": "code",
   "execution_count": 56,
   "metadata": {},
   "outputs": [
    {
     "name": "stdout",
     "output_type": "stream",
     "text": [
      "R2 0.9243670973246836\n",
      "Mean Squared Error 1.5463525888948847e-05\n",
      "Mean Absolute Error 0.0027799936355354894\n",
      "Explained Variance Score 0.9276701745861755\n"
     ]
    }
   ],
   "source": [
    "#linear regression for heating load\n",
    "lin_reg1 = LinearRegression()\n",
    "\n",
    "lin_reg1.fit(X_train,y1_train)\n",
    "y_pred_lin_reg1 = lin_reg1.predict(X_test)\n",
    "\n",
    "r2_score_lr1 = r2_score(y1_test,y_pred_lin_reg1)\n",
    "print(\"R2\",r2_score_lr1)\n",
    "\n",
    "mse_lr1 = mean_squared_error(y1_test, y_pred_lin_reg1)\n",
    "print(\"Mean Squared Error\",mse_lr1)\n",
    "\n",
    "mse_abs_lr1 = mean_absolute_error(y1_test, y_pred_lin_reg1)\n",
    "print(\"Mean Absolute Error\",mse_abs_lr1)\n",
    "\n",
    "exp_var_lr1 = explained_variance_score(y1_test, y_pred_lin_reg1)\n",
    "print(\"Explained Variance Score\",exp_var_lr1)"
   ]
  },
  {
   "cell_type": "code",
   "execution_count": 57,
   "metadata": {},
   "outputs": [
    {
     "name": "stdout",
     "output_type": "stream",
     "text": [
      "R2 0.9133603968223198\n",
      "Mean Squared Error 1.6277806513228594e-05\n",
      "Mean Absolute Error 0.0028853541997355806\n",
      "Explained Variance Score 0.9169361701258356\n"
     ]
    }
   ],
   "source": [
    "#linear regression for cooling load\n",
    "lin_reg2 = LinearRegression()\n",
    "\n",
    "lin_reg2.fit(X_train,y2_train)\n",
    "y_pred_lin_reg2 = lin_reg2.predict(X_test)\n",
    "\n",
    "r2_score_lr2 = r2_score(y2_test,y_pred_lin_reg2)\n",
    "print(\"R2\",r2_score_lr2)\n",
    "\n",
    "mse_lr2 = mean_squared_error(y2_test, y_pred_lin_reg2)\n",
    "print(\"Mean Squared Error\",mse_lr2)\n",
    "\n",
    "mse_abs_lr2 = mean_absolute_error(y2_test, y_pred_lin_reg2)\n",
    "print(\"Mean Absolute Error\",mse_abs_lr2)\n",
    "\n",
    "exp_var_lr2 = explained_variance_score(y2_test, y_pred_lin_reg2)\n",
    "print(\"Explained Variance Score\",exp_var_lr2)"
   ]
  },
  {
   "cell_type": "code",
   "execution_count": 58,
   "metadata": {},
   "outputs": [
    {
     "name": "stdout",
     "output_type": "stream",
     "text": [
      "R2 0.998352036674039\n",
      "Mean Squared Error 3.369343586406131e-07\n",
      "Mean Absolute Error 0.00038753284761991274\n",
      "Explained Variance Score 0.9983546840834772\n"
     ]
    }
   ],
   "source": [
    "#DesicionTree for heating load\n",
    "reg_dt1 = DecisionTreeRegressor(random_state=0)\n",
    "\n",
    "reg_dt1.fit(X_train,y1_train)\n",
    "y_predict_dt1 = reg_dt1.predict(X_test)\n",
    "\n",
    "r2_dt1 = r2_score(y1_test, y_predict_dt1)\n",
    "print(\"R2\",r2_dt1)\n",
    "\n",
    "mse_dt1 = mean_squared_error(y1_test, y_predict_dt1)\n",
    "print(\"Mean Squared Error\",mse_dt1)\n",
    "\n",
    "mse_abs_dt1 = mean_absolute_error(y1_test, y_predict_dt1)\n",
    "print(\"Mean Absolute Error\",mse_abs_dt1)\n",
    "\n",
    "exp_var_dt1 = explained_variance_score(y1_test, y_predict_dt1)\n",
    "print(\"Explained Variance Score\",exp_var_dt1)"
   ]
  },
  {
   "cell_type": "code",
   "execution_count": 59,
   "metadata": {},
   "outputs": [
    {
     "name": "stdout",
     "output_type": "stream",
     "text": [
      "R2 0.9975047355757571\n",
      "Mean Squared Error 4.68809066609748e-07\n",
      "Mean Absolute Error 0.00048418034420040664\n",
      "Explained Variance Score 0.9975255482550648\n"
     ]
    }
   ],
   "source": [
    "#DesicionTree for cooling load\n",
    "reg_dt2 = DecisionTreeRegressor(random_state=0)\n",
    "\n",
    "reg_dt2.fit(X_train,y2_train)\n",
    "y_predict_dt2 = reg_dt2.predict(X_test)\n",
    "\n",
    "r2_dt2 = r2_score(y2_test, y_predict_dt2)\n",
    "print(\"R2\",r2_dt2)\n",
    "\n",
    "mse_dt2 = mean_squared_error(y2_test, y_predict_dt2)\n",
    "print(\"Mean Squared Error\",mse_dt2)\n",
    "\n",
    "mse_abs_dt2 = mean_absolute_error(y2_test, y_predict_dt2)\n",
    "print(\"Mean Absolute Error\",mse_abs_dt2)\n",
    "\n",
    "exp_var_dt2 = explained_variance_score(y2_test, y_predict_dt2)\n",
    "print(\"Explained Variance Score\",exp_var_dt2)"
   ]
  },
  {
   "cell_type": "code",
   "execution_count": 60,
   "metadata": {},
   "outputs": [
    {
     "name": "stdout",
     "output_type": "stream",
     "text": [
      "R2 0.9986546051773422\n",
      "Mean Squared Error 2.750727122075243e-07\n",
      "Mean Absolute Error 0.00034187626821204607\n",
      "Explained Variance Score 0.9986546283895583\n"
     ]
    },
    {
     "name": "stderr",
     "output_type": "stream",
     "text": [
      "<ipython-input-60-b13cc4c1dbf9>:4: DataConversionWarning: A column-vector y was passed when a 1d array was expected. Please change the shape of y to (n_samples,), for example using ravel().\n",
      "  rf_reg1.fit(X_train,y1_train)\n"
     ]
    }
   ],
   "source": [
    "#Random Forest Regression for heating load\n",
    "rf_reg1 = RandomForestRegressor(n_estimators=100,random_state=0)\n",
    "\n",
    "rf_reg1.fit(X_train,y1_train)\n",
    "y_pred_rf1 = rf_reg1.predict(X_test)\n",
    "\n",
    "r2_score_rf1 = r2_score(y1_test, y_pred_rf1)\n",
    "print('R2',r2_score_rf1)\n",
    "\n",
    "mse_rf1 = mean_squared_error(y1_test, y_pred_rf1)\n",
    "print(\"Mean Squared Error\",mse_rf1)\n",
    "\n",
    "mse_abs_rf1 = mean_absolute_error(y1_test, y_pred_rf1)\n",
    "print(\"Mean Absolute Error\",mse_abs_rf1)\n",
    "\n",
    "exp_var_rf1 = explained_variance_score(y1_test, y_pred_rf1)\n",
    "print(\"Explained Variance Score\",exp_var_rf1)"
   ]
  },
  {
   "cell_type": "code",
   "execution_count": 61,
   "metadata": {},
   "outputs": [
    {
     "name": "stdout",
     "output_type": "stream",
     "text": [
      "R2 0.9972847752420482\n",
      "Mean Squared Error 5.101351071429514e-07\n",
      "Mean Absolute Error 0.0004621566523144457\n",
      "Explained Variance Score 0.997287224900942\n"
     ]
    },
    {
     "name": "stderr",
     "output_type": "stream",
     "text": [
      "<ipython-input-61-9638606c1d6b>:4: DataConversionWarning: A column-vector y was passed when a 1d array was expected. Please change the shape of y to (n_samples,), for example using ravel().\n",
      "  rf_reg2.fit(X_train,y2_train)\n"
     ]
    }
   ],
   "source": [
    "#Random Forest Regression for cooling load\n",
    "rf_reg2 = RandomForestRegressor(n_estimators=100,random_state=0)\n",
    "\n",
    "rf_reg2.fit(X_train,y2_train)\n",
    "y_pred_rf2 = rf_reg2.predict(X_test)\n",
    "\n",
    "r2_score_rf2 = r2_score(y2_test, y_pred_rf2)\n",
    "print('R2',r2_score_rf2)\n",
    "\n",
    "mse_rf2 = mean_squared_error(y2_test, y_pred_rf2)\n",
    "print(\"Mean Squared Error\",mse_rf2)\n",
    "\n",
    "mse_abs_rf2 = mean_absolute_error(y2_test, y_pred_rf2)\n",
    "print(\"Mean Absolute Error\",mse_abs_rf2)\n",
    "\n",
    "exp_var_rf2 = explained_variance_score(y2_test, y_pred_rf2)\n",
    "print(\"Explained Variance Score\",exp_var_rf2)"
   ]
  },
  {
   "cell_type": "code",
   "execution_count": 62,
   "metadata": {},
   "outputs": [
    {
     "data": {
      "text/html": [
       "<div>\n",
       "<style scoped>\n",
       "    .dataframe tbody tr th:only-of-type {\n",
       "        vertical-align: middle;\n",
       "    }\n",
       "\n",
       "    .dataframe tbody tr th {\n",
       "        vertical-align: top;\n",
       "    }\n",
       "\n",
       "    .dataframe thead th {\n",
       "        text-align: right;\n",
       "    }\n",
       "</style>\n",
       "<table border=\"1\" class=\"dataframe\">\n",
       "  <thead>\n",
       "    <tr style=\"text-align: right;\">\n",
       "      <th></th>\n",
       "      <th>Linear</th>\n",
       "      <th>DecisionTree</th>\n",
       "      <th>RandomForest</th>\n",
       "    </tr>\n",
       "  </thead>\n",
       "  <tbody>\n",
       "    <tr>\n",
       "      <th>0</th>\n",
       "      <td>0.000015</td>\n",
       "      <td>3.369344e-07</td>\n",
       "      <td>2.750727e-07</td>\n",
       "    </tr>\n",
       "    <tr>\n",
       "      <th>1</th>\n",
       "      <td>0.924367</td>\n",
       "      <td>9.983520e-01</td>\n",
       "      <td>9.986546e-01</td>\n",
       "    </tr>\n",
       "    <tr>\n",
       "      <th>2</th>\n",
       "      <td>0.002780</td>\n",
       "      <td>3.875328e-04</td>\n",
       "      <td>3.418763e-04</td>\n",
       "    </tr>\n",
       "    <tr>\n",
       "      <th>3</th>\n",
       "      <td>0.927670</td>\n",
       "      <td>9.983547e-01</td>\n",
       "      <td>9.986546e-01</td>\n",
       "    </tr>\n",
       "  </tbody>\n",
       "</table>\n",
       "</div>"
      ],
      "text/plain": [
       "     Linear  DecisionTree  RandomForest\n",
       "0  0.000015  3.369344e-07  2.750727e-07\n",
       "1  0.924367  9.983520e-01  9.986546e-01\n",
       "2  0.002780  3.875328e-04  3.418763e-04\n",
       "3  0.927670  9.983547e-01  9.986546e-01"
      ]
     },
     "execution_count": 62,
     "metadata": {},
     "output_type": "execute_result"
    }
   ],
   "source": [
    "tips1 = [\n",
    "        [mse_lr1, r2_score_lr1, mse_abs_lr1, exp_var_lr1]\n",
    "        ,[mse_dt1, r2_dt1, mse_abs_dt1, exp_var_dt1]\n",
    "        ,[mse_rf1, r2_score_rf1, mse_abs_rf1, exp_var_rf1]\n",
    "        ]\n",
    "tips1 = pd.DataFrame(data=tips1).transpose()\n",
    "tips1.columns = [\"Linear\",\"DecisionTree\",\"RandomForest\"]\n",
    "tips1"
   ]
  },
  {
   "cell_type": "code",
   "execution_count": 63,
   "metadata": {},
   "outputs": [
    {
     "data": {
      "text/html": [
       "<div>\n",
       "<style scoped>\n",
       "    .dataframe tbody tr th:only-of-type {\n",
       "        vertical-align: middle;\n",
       "    }\n",
       "\n",
       "    .dataframe tbody tr th {\n",
       "        vertical-align: top;\n",
       "    }\n",
       "\n",
       "    .dataframe thead th {\n",
       "        text-align: right;\n",
       "    }\n",
       "</style>\n",
       "<table border=\"1\" class=\"dataframe\">\n",
       "  <thead>\n",
       "    <tr style=\"text-align: right;\">\n",
       "      <th></th>\n",
       "      <th>Linear</th>\n",
       "      <th>DecisionTree</th>\n",
       "      <th>RandomForest</th>\n",
       "    </tr>\n",
       "  </thead>\n",
       "  <tbody>\n",
       "    <tr>\n",
       "      <th>0</th>\n",
       "      <td>0.000016</td>\n",
       "      <td>4.688091e-07</td>\n",
       "      <td>5.101351e-07</td>\n",
       "    </tr>\n",
       "    <tr>\n",
       "      <th>1</th>\n",
       "      <td>0.913360</td>\n",
       "      <td>9.975047e-01</td>\n",
       "      <td>9.972848e-01</td>\n",
       "    </tr>\n",
       "    <tr>\n",
       "      <th>2</th>\n",
       "      <td>0.002885</td>\n",
       "      <td>4.841803e-04</td>\n",
       "      <td>4.621567e-04</td>\n",
       "    </tr>\n",
       "    <tr>\n",
       "      <th>3</th>\n",
       "      <td>0.916936</td>\n",
       "      <td>9.975255e-01</td>\n",
       "      <td>9.972872e-01</td>\n",
       "    </tr>\n",
       "  </tbody>\n",
       "</table>\n",
       "</div>"
      ],
      "text/plain": [
       "     Linear  DecisionTree  RandomForest\n",
       "0  0.000016  4.688091e-07  5.101351e-07\n",
       "1  0.913360  9.975047e-01  9.972848e-01\n",
       "2  0.002885  4.841803e-04  4.621567e-04\n",
       "3  0.916936  9.975255e-01  9.972872e-01"
      ]
     },
     "execution_count": 63,
     "metadata": {},
     "output_type": "execute_result"
    }
   ],
   "source": [
    "tips2 = [\n",
    "        [mse_lr2, r2_score_lr2, mse_abs_lr2, exp_var_lr2]\n",
    "        ,[mse_dt2, r2_dt2, mse_abs_dt2, exp_var_dt2]\n",
    "        ,[mse_rf2, r2_score_rf2, mse_abs_rf2, exp_var_rf2]\n",
    "        ]\n",
    "tips2 = pd.DataFrame(data=tips2).transpose()\n",
    "tips2.columns = [\"Linear\",\"DecisionTree\",\"RandomForest\"]\n",
    "tips2"
   ]
  },
  {
   "cell_type": "markdown",
   "metadata": {},
   "source": [
    "# Conclusion"
   ]
  },
  {
   "cell_type": "markdown",
   "metadata": {},
   "source": [
    "* Using a dataset of all building features, it is understood that there is no need to estimate the heating and cooling load of the buildings. By reducing the model complex, a good estimation can be made using fewer features."
   ]
  },
  {
   "cell_type": "markdown",
   "metadata": {},
   "source": [
    "* Linear regression, decision tree and random forest models were applied for this dataset. Some statistics used in the measurement of forecasting performance were examined. "
   ]
  },
  {
   "cell_type": "markdown",
   "metadata": {},
   "source": [
    "* Therefore, Random forest was our best model for predicting heating load. Also, The random forest model was also the best model for predicting the cooling load."
   ]
  }
 ],
 "metadata": {
  "kernelspec": {
   "display_name": "Python 3 (ipykernel)",
   "language": "python",
   "name": "python3"
  },
  "language_info": {
   "codemirror_mode": {
    "name": "ipython",
    "version": 3
   },
   "file_extension": ".py",
   "mimetype": "text/x-python",
   "name": "python",
   "nbconvert_exporter": "python",
   "pygments_lexer": "ipython3",
   "version": "3.9.13"
  }
 },
 "nbformat": 4,
 "nbformat_minor": 4
}
